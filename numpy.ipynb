{
 "cells": [
  {
   "cell_type": "markdown",
   "id": "278edcdb",
   "metadata": {},
   "source": [
    "Numerical library in python which deals with arrays in python. Array is collection of data, the data should be heterogenous. ( A list could have different data types. but in array, technically we should have only one data type)"
   ]
  },
  {
   "cell_type": "code",
   "execution_count": 1,
   "id": "ab6c6a8d",
   "metadata": {},
   "outputs": [
    {
     "name": "stdout",
     "output_type": "stream",
     "text": [
      "[1 2 3 4]\n",
      "['a' 'b' 'c' 'd' 'e']\n"
     ]
    }
   ],
   "source": [
    "import numpy as np\n",
    "\n",
    "arr1 = np.array([1,2,3,4])\n",
    "arr2 = np.array(list('abcde'))\n",
    "\n",
    "print(arr1)\n",
    "print(arr2)\n",
    "# there is still no difference if the array here (which looks like a list) has no comma. It's just the representa-\n",
    "#tion of array and nothing more"
   ]
  },
  {
   "cell_type": "code",
   "execution_count": 2,
   "id": "f12e9d75",
   "metadata": {},
   "outputs": [
    {
     "name": "stdout",
     "output_type": "stream",
     "text": [
      "int64\n"
     ]
    }
   ],
   "source": [
    "print(arr1.dtype)"
   ]
  },
  {
   "cell_type": "code",
   "execution_count": 3,
   "id": "52bfab39",
   "metadata": {},
   "outputs": [
    {
     "name": "stdout",
     "output_type": "stream",
     "text": [
      "<U1\n"
     ]
    }
   ],
   "source": [
    "print(arr2.dtype)\n",
    "# string is denoted as U1 in numpy"
   ]
  },
  {
   "cell_type": "code",
   "execution_count": 5,
   "id": "13e0f1b0",
   "metadata": {},
   "outputs": [
    {
     "name": "stdout",
     "output_type": "stream",
     "text": [
      "[1, 'a', (2+3j), (2, 3)]\n",
      "<class 'list'>\n"
     ]
    }
   ],
   "source": [
    "lst1 = [1, 'a', 2 + 3j, (2, 3)]\n",
    "print(lst1)\n",
    "print(type(lst1))"
   ]
  },
  {
   "cell_type": "code",
   "execution_count": 7,
   "id": "b2ec7ea2",
   "metadata": {},
   "outputs": [
    {
     "name": "stdout",
     "output_type": "stream",
     "text": [
      "[1 'a' (2+3j) (2, 3)]\n",
      "object\n"
     ]
    },
    {
     "name": "stderr",
     "output_type": "stream",
     "text": [
      "/var/folders/01/wbf4q7254sg4vtt9f05q1z8r0000gn/T/ipykernel_3185/2432220898.py:1: VisibleDeprecationWarning: Creating an ndarray from ragged nested sequences (which is a list-or-tuple of lists-or-tuples-or ndarrays with different lengths or shapes) is deprecated. If you meant to do this, you must specify 'dtype=object' when creating the ndarray.\n",
      "  arr3 = np.array(lst1)\n"
     ]
    }
   ],
   "source": [
    "arr3 = np.array(lst1)\n",
    "print(arr3)\n",
    "print(arr3.dtype)\n",
    "# we are able to create an array with heterogenous data, the array is in form of object data type.\n",
    "# It does show a warning error\n",
    "# Technically though we only have one datatype( try not to make an array with different datatypes)"
   ]
  },
  {
   "cell_type": "markdown",
   "id": "18a600f0",
   "metadata": {},
   "source": [
    "- > In arrays, the elements in each dimension should be the same- on particular axis\n",
    "- In numpy, the metadata (memory location) is stored in the numpy array object itself. \n",
    "- In numpy, the data is stored in contigous block of memory -- any memory block that is adjacent to the last memory block. can be any one of the four. \n",
    "- for the execution, if the element does not find any adjacent block of memory, then it waits till it gets enough memory to process the array\n",
    "\n",
    "- we use numpy arrays because\n",
    "1. They are very fast than the list objects.\n",
    "2. They offer us efficient way of doing mathematical operations. "
   ]
  },
  {
   "cell_type": "code",
   "execution_count": 8,
   "id": "9f7aee84",
   "metadata": {},
   "outputs": [
    {
     "name": "stdout",
     "output_type": "stream",
     "text": [
      "10000000\n",
      "10000000\n"
     ]
    }
   ],
   "source": [
    "import numpy as np\n",
    "\n",
    "nump_a = np.arange(10000000)\n",
    "list_a = list(range(10000000))\n",
    "\n",
    "print(len(nump_a))\n",
    "print(len(list_a))"
   ]
  },
  {
   "cell_type": "code",
   "execution_count": 10,
   "id": "592d6f74",
   "metadata": {},
   "outputs": [
    {
     "name": "stdout",
     "output_type": "stream",
     "text": [
      "CPU times: user 359 ms, sys: 103 ms, total: 462 ms\n",
      "Wall time: 475 ms\n"
     ]
    }
   ],
   "source": [
    "%%time\n",
    "\n",
    "list_b = [i * 2 for i in list_a]"
   ]
  },
  {
   "cell_type": "code",
   "execution_count": 12,
   "id": "22a9cc75",
   "metadata": {},
   "outputs": [
    {
     "name": "stdout",
     "output_type": "stream",
     "text": [
      "CPU times: user 88.8 ms, sys: 191 ms, total: 279 ms\n",
      "Wall time: 313 ms\n"
     ]
    }
   ],
   "source": [
    "%%time\n",
    "\n",
    "nump_a = nump_a * 2\n",
    "\n",
    "# in numpy we don't have to do any for loop, we can just multiple the whole array by 2 that is applicable to all\n",
    "# the elements"
   ]
  },
  {
   "cell_type": "code",
   "execution_count": 14,
   "id": "08d07ed8",
   "metadata": {},
   "outputs": [
    {
     "name": "stdout",
     "output_type": "stream",
     "text": [
      "[0. 1. 2. 3. 4. 5. 6. 7. 8. 9.]\n",
      "<class 'numpy.ndarray'>\n",
      "float64\n"
     ]
    }
   ],
   "source": [
    "arr = np.arange(10, dtype = float)\n",
    "print(arr)\n",
    "print(type(arr)) # type of object arr\n",
    "print(arr.dtype)  #  type of data in arr"
   ]
  },
  {
   "cell_type": "code",
   "execution_count": null,
   "id": "42af5588",
   "metadata": {},
   "outputs": [],
   "source": [
    "# arange in numpy version of range"
   ]
  },
  {
   "cell_type": "code",
   "execution_count": 15,
   "id": "b11dcc03",
   "metadata": {},
   "outputs": [
    {
     "name": "stdout",
     "output_type": "stream",
     "text": [
      "[ 5  7  9 11]\n"
     ]
    }
   ],
   "source": [
    "arr1 = np.array([5,7,9,11])\n",
    "print(arr1)"
   ]
  },
  {
   "cell_type": "code",
   "execution_count": 19,
   "id": "d0d93550",
   "metadata": {},
   "outputs": [
    {
     "name": "stdout",
     "output_type": "stream",
     "text": [
      "[[0 1]\n",
      " [2 3]\n",
      " [4 5]]\n",
      "(3, 2)\n",
      "2\n"
     ]
    }
   ],
   "source": [
    "data = np.arange(6).reshape(3,2)\n",
    "print(data)\n",
    "print(data.shape)\n",
    "print(data.ndim) # to check number of dimensions"
   ]
  },
  {
   "cell_type": "code",
   "execution_count": 21,
   "id": "812c99dc",
   "metadata": {},
   "outputs": [
    {
     "name": "stdout",
     "output_type": "stream",
     "text": [
      "[[[[[  0   1   2   3   4   5]\n",
      "    [  6   7   8   9  10  11]\n",
      "    [ 12  13  14  15  16  17]\n",
      "    [ 18  19  20  21  22  23]\n",
      "    [ 24  25  26  27  28  29]]\n",
      "\n",
      "   [[ 30  31  32  33  34  35]\n",
      "    [ 36  37  38  39  40  41]\n",
      "    [ 42  43  44  45  46  47]\n",
      "    [ 48  49  50  51  52  53]\n",
      "    [ 54  55  56  57  58  59]]\n",
      "\n",
      "   [[ 60  61  62  63  64  65]\n",
      "    [ 66  67  68  69  70  71]\n",
      "    [ 72  73  74  75  76  77]\n",
      "    [ 78  79  80  81  82  83]\n",
      "    [ 84  85  86  87  88  89]]\n",
      "\n",
      "   [[ 90  91  92  93  94  95]\n",
      "    [ 96  97  98  99 100 101]\n",
      "    [102 103 104 105 106 107]\n",
      "    [108 109 110 111 112 113]\n",
      "    [114 115 116 117 118 119]]]\n",
      "\n",
      "\n",
      "  [[[120 121 122 123 124 125]\n",
      "    [126 127 128 129 130 131]\n",
      "    [132 133 134 135 136 137]\n",
      "    [138 139 140 141 142 143]\n",
      "    [144 145 146 147 148 149]]\n",
      "\n",
      "   [[150 151 152 153 154 155]\n",
      "    [156 157 158 159 160 161]\n",
      "    [162 163 164 165 166 167]\n",
      "    [168 169 170 171 172 173]\n",
      "    [174 175 176 177 178 179]]\n",
      "\n",
      "   [[180 181 182 183 184 185]\n",
      "    [186 187 188 189 190 191]\n",
      "    [192 193 194 195 196 197]\n",
      "    [198 199 200 201 202 203]\n",
      "    [204 205 206 207 208 209]]\n",
      "\n",
      "   [[210 211 212 213 214 215]\n",
      "    [216 217 218 219 220 221]\n",
      "    [222 223 224 225 226 227]\n",
      "    [228 229 230 231 232 233]\n",
      "    [234 235 236 237 238 239]]]\n",
      "\n",
      "\n",
      "  [[[240 241 242 243 244 245]\n",
      "    [246 247 248 249 250 251]\n",
      "    [252 253 254 255 256 257]\n",
      "    [258 259 260 261 262 263]\n",
      "    [264 265 266 267 268 269]]\n",
      "\n",
      "   [[270 271 272 273 274 275]\n",
      "    [276 277 278 279 280 281]\n",
      "    [282 283 284 285 286 287]\n",
      "    [288 289 290 291 292 293]\n",
      "    [294 295 296 297 298 299]]\n",
      "\n",
      "   [[300 301 302 303 304 305]\n",
      "    [306 307 308 309 310 311]\n",
      "    [312 313 314 315 316 317]\n",
      "    [318 319 320 321 322 323]\n",
      "    [324 325 326 327 328 329]]\n",
      "\n",
      "   [[330 331 332 333 334 335]\n",
      "    [336 337 338 339 340 341]\n",
      "    [342 343 344 345 346 347]\n",
      "    [348 349 350 351 352 353]\n",
      "    [354 355 356 357 358 359]]]]\n",
      "\n",
      "\n",
      "\n",
      " [[[[360 361 362 363 364 365]\n",
      "    [366 367 368 369 370 371]\n",
      "    [372 373 374 375 376 377]\n",
      "    [378 379 380 381 382 383]\n",
      "    [384 385 386 387 388 389]]\n",
      "\n",
      "   [[390 391 392 393 394 395]\n",
      "    [396 397 398 399 400 401]\n",
      "    [402 403 404 405 406 407]\n",
      "    [408 409 410 411 412 413]\n",
      "    [414 415 416 417 418 419]]\n",
      "\n",
      "   [[420 421 422 423 424 425]\n",
      "    [426 427 428 429 430 431]\n",
      "    [432 433 434 435 436 437]\n",
      "    [438 439 440 441 442 443]\n",
      "    [444 445 446 447 448 449]]\n",
      "\n",
      "   [[450 451 452 453 454 455]\n",
      "    [456 457 458 459 460 461]\n",
      "    [462 463 464 465 466 467]\n",
      "    [468 469 470 471 472 473]\n",
      "    [474 475 476 477 478 479]]]\n",
      "\n",
      "\n",
      "  [[[480 481 482 483 484 485]\n",
      "    [486 487 488 489 490 491]\n",
      "    [492 493 494 495 496 497]\n",
      "    [498 499 500 501 502 503]\n",
      "    [504 505 506 507 508 509]]\n",
      "\n",
      "   [[510 511 512 513 514 515]\n",
      "    [516 517 518 519 520 521]\n",
      "    [522 523 524 525 526 527]\n",
      "    [528 529 530 531 532 533]\n",
      "    [534 535 536 537 538 539]]\n",
      "\n",
      "   [[540 541 542 543 544 545]\n",
      "    [546 547 548 549 550 551]\n",
      "    [552 553 554 555 556 557]\n",
      "    [558 559 560 561 562 563]\n",
      "    [564 565 566 567 568 569]]\n",
      "\n",
      "   [[570 571 572 573 574 575]\n",
      "    [576 577 578 579 580 581]\n",
      "    [582 583 584 585 586 587]\n",
      "    [588 589 590 591 592 593]\n",
      "    [594 595 596 597 598 599]]]\n",
      "\n",
      "\n",
      "  [[[600 601 602 603 604 605]\n",
      "    [606 607 608 609 610 611]\n",
      "    [612 613 614 615 616 617]\n",
      "    [618 619 620 621 622 623]\n",
      "    [624 625 626 627 628 629]]\n",
      "\n",
      "   [[630 631 632 633 634 635]\n",
      "    [636 637 638 639 640 641]\n",
      "    [642 643 644 645 646 647]\n",
      "    [648 649 650 651 652 653]\n",
      "    [654 655 656 657 658 659]]\n",
      "\n",
      "   [[660 661 662 663 664 665]\n",
      "    [666 667 668 669 670 671]\n",
      "    [672 673 674 675 676 677]\n",
      "    [678 679 680 681 682 683]\n",
      "    [684 685 686 687 688 689]]\n",
      "\n",
      "   [[690 691 692 693 694 695]\n",
      "    [696 697 698 699 700 701]\n",
      "    [702 703 704 705 706 707]\n",
      "    [708 709 710 711 712 713]\n",
      "    [714 715 716 717 718 719]]]]]\n",
      "(2, 3, 4, 5, 6)\n",
      "5\n"
     ]
    }
   ],
   "source": [
    "data1 = np.arange(720).reshape(2,3,4,5,6)\n",
    "print(data1)\n",
    "print(data1.shape)\n",
    "print(data1.ndim)"
   ]
  },
  {
   "cell_type": "code",
   "execution_count": null,
   "id": "94953ec4",
   "metadata": {},
   "outputs": [],
   "source": [
    "# the calculation of all the dimension matrix would be equal to the amount of elements we give"
   ]
  },
  {
   "cell_type": "markdown",
   "id": "e8739066",
   "metadata": {},
   "source": [
    "-> axis numnbers keeps changing based on number of dimensions\n",
    "\n",
    "axis no.           elements\n",
    "0                  2\n",
    "\n",
    "0,1                3 X 2\n",
    "\n",
    "0,1,2              4 X 3 X 2\n",
    "\n",
    "0,1,2,3.           5 X 4 X 3 X 2\n",
    "\n",
    "\n",
    "--> axis numbers are kind of index numbers to the reshape function"
   ]
  },
  {
   "cell_type": "markdown",
   "id": "e919e236",
   "metadata": {},
   "source": [
    "-> As long as the shapes/sizes are same on same axis, we can perform arithmetic operations on arrays. \n",
    "-> There is also broadcasting on arrays for different sized arrays or sizes. "
   ]
  },
  {
   "cell_type": "code",
   "execution_count": 22,
   "id": "24d5ed23",
   "metadata": {},
   "outputs": [
    {
     "name": "stdout",
     "output_type": "stream",
     "text": [
      "[[[ 0  1  2  3]\n",
      "  [ 4  5  6  7]\n",
      "  [ 8  9 10 11]]\n",
      "\n",
      " [[12 13 14 15]\n",
      "  [16 17 18 19]\n",
      "  [20 21 22 23]]]\n"
     ]
    }
   ],
   "source": [
    "data = np.arange(24).reshape(2,3,4)\n",
    "print(data)"
   ]
  },
  {
   "cell_type": "code",
   "execution_count": 23,
   "id": "c70024a3",
   "metadata": {},
   "outputs": [
    {
     "data": {
      "text/plain": [
       "276"
      ]
     },
     "execution_count": 23,
     "metadata": {},
     "output_type": "execute_result"
    }
   ],
   "source": [
    "data.sum()"
   ]
  },
  {
   "cell_type": "code",
   "execution_count": 24,
   "id": "af6a4bcd",
   "metadata": {},
   "outputs": [
    {
     "name": "stdout",
     "output_type": "stream",
     "text": [
      "[[12 14 16 18]\n",
      " [20 22 24 26]\n",
      " [28 30 32 34]]\n"
     ]
    }
   ],
   "source": [
    "dataaxis0 = data.sum(axis = 0)\n",
    "print(dataaxis0)\n",
    "# this is collapsing the axis, the axis 0 here is collapsed and the shape now is (3,4)"
   ]
  },
  {
   "cell_type": "code",
   "execution_count": 25,
   "id": "692272eb",
   "metadata": {},
   "outputs": [
    {
     "name": "stdout",
     "output_type": "stream",
     "text": [
      "[[12 15 18 21]\n",
      " [48 51 54 57]]\n"
     ]
    }
   ],
   "source": [
    "dataaxis1 = data.sum(axis = 1)\n",
    "print(dataaxis1)"
   ]
  },
  {
   "cell_type": "code",
   "execution_count": 27,
   "id": "1c7b8d56",
   "metadata": {},
   "outputs": [
    {
     "name": "stdout",
     "output_type": "stream",
     "text": [
      "[[ 6 22 38]\n",
      " [54 70 86]]\n"
     ]
    }
   ],
   "source": [
    "dataaxis2 = data.sum(axis = 2)\n",
    "print(dataaxis2)"
   ]
  },
  {
   "cell_type": "code",
   "execution_count": 29,
   "id": "42b30c93",
   "metadata": {},
   "outputs": [
    {
     "name": "stdout",
     "output_type": "stream",
     "text": [
      "[[[[  0   1   2   3   4]\n",
      "   [  5   6   7   8   9]\n",
      "   [ 10  11  12  13  14]\n",
      "   [ 15  16  17  18  19]]\n",
      "\n",
      "  [[ 20  21  22  23  24]\n",
      "   [ 25  26  27  28  29]\n",
      "   [ 30  31  32  33  34]\n",
      "   [ 35  36  37  38  39]]\n",
      "\n",
      "  [[ 40  41  42  43  44]\n",
      "   [ 45  46  47  48  49]\n",
      "   [ 50  51  52  53  54]\n",
      "   [ 55  56  57  58  59]]]\n",
      "\n",
      "\n",
      " [[[ 60  61  62  63  64]\n",
      "   [ 65  66  67  68  69]\n",
      "   [ 70  71  72  73  74]\n",
      "   [ 75  76  77  78  79]]\n",
      "\n",
      "  [[ 80  81  82  83  84]\n",
      "   [ 85  86  87  88  89]\n",
      "   [ 90  91  92  93  94]\n",
      "   [ 95  96  97  98  99]]\n",
      "\n",
      "  [[100 101 102 103 104]\n",
      "   [105 106 107 108 109]\n",
      "   [110 111 112 113 114]\n",
      "   [115 116 117 118 119]]]]\n"
     ]
    }
   ],
   "source": [
    "data1 = np.arange(120).reshape(2,3,4,5)\n",
    "print(data1)"
   ]
  },
  {
   "cell_type": "code",
   "execution_count": 37,
   "id": "e46d014f",
   "metadata": {},
   "outputs": [
    {
     "name": "stdout",
     "output_type": "stream",
     "text": [
      "[[[ 60  62  64  66  68]\n",
      "  [ 70  72  74  76  78]\n",
      "  [ 80  82  84  86  88]\n",
      "  [ 90  92  94  96  98]]\n",
      "\n",
      " [[100 102 104 106 108]\n",
      "  [110 112 114 116 118]\n",
      "  [120 122 124 126 128]\n",
      "  [130 132 134 136 138]]\n",
      "\n",
      " [[140 142 144 146 148]\n",
      "  [150 152 154 156 158]\n",
      "  [160 162 164 166 168]\n",
      "  [170 172 174 176 178]]]\n"
     ]
    },
    {
     "data": {
      "text/plain": [
       "(3, 4, 5)"
      ]
     },
     "execution_count": 37,
     "metadata": {},
     "output_type": "execute_result"
    }
   ],
   "source": [
    "dataax0 = data1.sum(axis = 0)\n",
    "print(dataax0)\n",
    "dataax0.shape"
   ]
  },
  {
   "cell_type": "code",
   "execution_count": 36,
   "id": "7ba76c3c",
   "metadata": {},
   "outputs": [
    {
     "name": "stdout",
     "output_type": "stream",
     "text": [
      "[[[ 60  63  66  69  72]\n",
      "  [ 75  78  81  84  87]\n",
      "  [ 90  93  96  99 102]\n",
      "  [105 108 111 114 117]]\n",
      "\n",
      " [[240 243 246 249 252]\n",
      "  [255 258 261 264 267]\n",
      "  [270 273 276 279 282]\n",
      "  [285 288 291 294 297]]]\n"
     ]
    },
    {
     "data": {
      "text/plain": [
       "(2, 4, 5)"
      ]
     },
     "execution_count": 36,
     "metadata": {},
     "output_type": "execute_result"
    }
   ],
   "source": [
    "dataax1 = data1.sum(axis = 1)\n",
    "print(dataax1)\n",
    "dataax1.shape"
   ]
  },
  {
   "cell_type": "code",
   "execution_count": 35,
   "id": "10691e3d",
   "metadata": {},
   "outputs": [
    {
     "name": "stdout",
     "output_type": "stream",
     "text": [
      "[[[ 30  34  38  42  46]\n",
      "  [110 114 118 122 126]\n",
      "  [190 194 198 202 206]]\n",
      "\n",
      " [[270 274 278 282 286]\n",
      "  [350 354 358 362 366]\n",
      "  [430 434 438 442 446]]]\n"
     ]
    },
    {
     "data": {
      "text/plain": [
       "(2, 3, 5)"
      ]
     },
     "execution_count": 35,
     "metadata": {},
     "output_type": "execute_result"
    }
   ],
   "source": [
    "dataax2 = data1.sum(axis = 2)\n",
    "print(dataax2)\n",
    "dataax2.shape"
   ]
  },
  {
   "cell_type": "code",
   "execution_count": 34,
   "id": "e51782bd",
   "metadata": {},
   "outputs": [
    {
     "name": "stdout",
     "output_type": "stream",
     "text": [
      "[[[ 10  35  60  85]\n",
      "  [110 135 160 185]\n",
      "  [210 235 260 285]]\n",
      "\n",
      " [[310 335 360 385]\n",
      "  [410 435 460 485]\n",
      "  [510 535 560 585]]]\n"
     ]
    },
    {
     "data": {
      "text/plain": [
       "(2, 3, 4)"
      ]
     },
     "execution_count": 34,
     "metadata": {},
     "output_type": "execute_result"
    }
   ],
   "source": [
    "dataax3 = data1.sum(axis = 3)\n",
    "print(dataax3)\n",
    "dataax3.shape"
   ]
  },
  {
   "cell_type": "markdown",
   "id": "b353ed58",
   "metadata": {},
   "source": [
    "# Basic indexing and slicing"
   ]
  },
  {
   "cell_type": "code",
   "execution_count": 39,
   "id": "366481da",
   "metadata": {},
   "outputs": [
    {
     "name": "stdout",
     "output_type": "stream",
     "text": [
      "[[[  0   1   2   3   4   5]\n",
      "  [  6   7   8   9  10  11]\n",
      "  [ 12  13  14  15  16  17]\n",
      "  [ 18  19  20  21  22  23]\n",
      "  [ 24  25  26  27  28  29]]\n",
      "\n",
      " [[ 30  31  32  33  34  35]\n",
      "  [ 36  37  38  39  40  41]\n",
      "  [ 42  43  44  45  46  47]\n",
      "  [ 48  49  50  51  52  53]\n",
      "  [ 54  55  56  57  58  59]]\n",
      "\n",
      " [[ 60  61  62  63  64  65]\n",
      "  [ 66  67  68  69  70  71]\n",
      "  [ 72  73  74  75  76  77]\n",
      "  [ 78  79  80  81  82  83]\n",
      "  [ 84  85  86  87  88  89]]\n",
      "\n",
      " [[ 90  91  92  93  94  95]\n",
      "  [ 96  97  98  99 100 101]\n",
      "  [102 103 104 105 106 107]\n",
      "  [108 109 110 111 112 113]\n",
      "  [114 115 116 117 118 119]]]\n"
     ]
    }
   ],
   "source": [
    "import numpy as np\n",
    "\n",
    "arr1 = np.arange(120).reshape(4,5,6)\n",
    "print(arr1)\n",
    "# 4 elements on axis 0, 5 elements on axis 1, 6 elements on axis 2 "
   ]
  },
  {
   "cell_type": "code",
   "execution_count": 40,
   "id": "7176f5f5",
   "metadata": {},
   "outputs": [
    {
     "data": {
      "text/plain": [
       "array([[30, 31, 32, 33, 34, 35],\n",
       "       [36, 37, 38, 39, 40, 41],\n",
       "       [42, 43, 44, 45, 46, 47],\n",
       "       [48, 49, 50, 51, 52, 53],\n",
       "       [54, 55, 56, 57, 58, 59]])"
      ]
     },
     "execution_count": 40,
     "metadata": {},
     "output_type": "execute_result"
    }
   ],
   "source": [
    "arr1[1]"
   ]
  },
  {
   "cell_type": "code",
   "execution_count": 41,
   "id": "b3edb7b0",
   "metadata": {},
   "outputs": [
    {
     "data": {
      "text/plain": [
       "array([48, 49, 50, 51, 52, 53])"
      ]
     },
     "execution_count": 41,
     "metadata": {},
     "output_type": "execute_result"
    }
   ],
   "source": [
    "arr1[1][3]"
   ]
  },
  {
   "cell_type": "code",
   "execution_count": 50,
   "id": "8a1a0ea8",
   "metadata": {},
   "outputs": [
    {
     "data": {
      "text/plain": [
       "53"
      ]
     },
     "execution_count": 50,
     "metadata": {},
     "output_type": "execute_result"
    }
   ],
   "source": [
    "arr1[1][3][5]"
   ]
  },
  {
   "cell_type": "code",
   "execution_count": 51,
   "id": "ec78e460",
   "metadata": {},
   "outputs": [
    {
     "data": {
      "text/plain": [
       "53"
      ]
     },
     "execution_count": 51,
     "metadata": {},
     "output_type": "execute_result"
    }
   ],
   "source": [
    "arr1[1,3,-1]  # we can also use all axis in same square brackets with comma in between "
   ]
  },
  {
   "cell_type": "code",
   "execution_count": 45,
   "id": "1718d44b",
   "metadata": {},
   "outputs": [
    {
     "data": {
      "text/plain": [
       "array([[[30, 31, 32, 33, 34, 35],\n",
       "        [36, 37, 38, 39, 40, 41],\n",
       "        [42, 43, 44, 45, 46, 47],\n",
       "        [48, 49, 50, 51, 52, 53],\n",
       "        [54, 55, 56, 57, 58, 59]],\n",
       "\n",
       "       [[60, 61, 62, 63, 64, 65],\n",
       "        [66, 67, 68, 69, 70, 71],\n",
       "        [72, 73, 74, 75, 76, 77],\n",
       "        [78, 79, 80, 81, 82, 83],\n",
       "        [84, 85, 86, 87, 88, 89]]])"
      ]
     },
     "execution_count": 45,
     "metadata": {},
     "output_type": "execute_result"
    }
   ],
   "source": [
    "arr1[1:3]"
   ]
  },
  {
   "cell_type": "code",
   "execution_count": 47,
   "id": "8b37efa7",
   "metadata": {},
   "outputs": [
    {
     "data": {
      "text/plain": [
       "array([[[36, 37, 38, 39, 40, 41],\n",
       "        [42, 43, 44, 45, 46, 47]],\n",
       "\n",
       "       [[66, 67, 68, 69, 70, 71],\n",
       "        [72, 73, 74, 75, 76, 77]]])"
      ]
     },
     "execution_count": 47,
     "metadata": {},
     "output_type": "execute_result"
    }
   ],
   "source": [
    "arr1[1:3,1:3]"
   ]
  },
  {
   "cell_type": "code",
   "execution_count": 52,
   "id": "3659e992",
   "metadata": {},
   "outputs": [
    {
     "data": {
      "text/plain": [
       "array([[[38, 39],\n",
       "        [44, 45]],\n",
       "\n",
       "       [[68, 69],\n",
       "        [74, 75]]])"
      ]
     },
     "execution_count": 52,
     "metadata": {},
     "output_type": "execute_result"
    }
   ],
   "source": [
    "arr1[1:3,1:3,2:4]"
   ]
  },
  {
   "cell_type": "code",
   "execution_count": 53,
   "id": "3bf3b5a6",
   "metadata": {},
   "outputs": [],
   "source": [
    "# axes are integer indexed\n",
    "# elements on each axed are also integer indexed "
   ]
  },
  {
   "cell_type": "code",
   "execution_count": 55,
   "id": "9c19f0c9",
   "metadata": {
    "scrolled": true
   },
   "outputs": [
    {
     "data": {
      "text/plain": [
       "array([[[ 21,  22,  23],\n",
       "        [ 27,  28,  29]],\n",
       "\n",
       "       [[ 51,  52,  53],\n",
       "        [ 57,  58,  59]],\n",
       "\n",
       "       [[ 81,  82,  83],\n",
       "        [ 87,  88,  89]],\n",
       "\n",
       "       [[111, 112, 113],\n",
       "        [117, 118, 119]]])"
      ]
     },
     "execution_count": 55,
     "metadata": {},
     "output_type": "execute_result"
    }
   ],
   "source": [
    "arr1[:,3:,3:]"
   ]
  },
  {
   "cell_type": "markdown",
   "id": "b206d4c5",
   "metadata": {},
   "source": [
    "# we can mix and match both indexing and slicing to get necessary elements "
   ]
  },
  {
   "cell_type": "code",
   "execution_count": 62,
   "id": "3737e7e6",
   "metadata": {},
   "outputs": [
    {
     "data": {
      "text/plain": [
       "array([[81, 82, 83],\n",
       "       [87, 88, 89]])"
      ]
     },
     "execution_count": 62,
     "metadata": {},
     "output_type": "execute_result"
    }
   ],
   "source": [
    "arr1[2,3:,3:]"
   ]
  },
  {
   "cell_type": "code",
   "execution_count": 63,
   "id": "14600278",
   "metadata": {},
   "outputs": [
    {
     "data": {
      "text/plain": [
       "array([82, 83])"
      ]
     },
     "execution_count": 63,
     "metadata": {},
     "output_type": "execute_result"
    }
   ],
   "source": [
    "arr1[2,3,4:]"
   ]
  },
  {
   "cell_type": "code",
   "execution_count": 64,
   "id": "fdef4f2d",
   "metadata": {},
   "outputs": [],
   "source": [
    "# In lists: \n",
    "# 1. when doing assignment on list slices, the number of elements assigned need not be same as the length of elements \n",
    "# being replaced\n",
    "# 2. The assigned values should be in an iterable"
   ]
  },
  {
   "cell_type": "code",
   "execution_count": null,
   "id": "f7ffe8ce",
   "metadata": {},
   "outputs": [],
   "source": [
    "# whild doing array slice assignment, the above rules do not apply. "
   ]
  },
  {
   "cell_type": "code",
   "execution_count": 65,
   "id": "89c62950",
   "metadata": {},
   "outputs": [
    {
     "name": "stdout",
     "output_type": "stream",
     "text": [
      "[1 2 3 4 5]\n"
     ]
    }
   ],
   "source": [
    "arr2 = np.array([1,2,3,4,5])\n",
    "print(arr2)"
   ]
  },
  {
   "cell_type": "code",
   "execution_count": 66,
   "id": "673f62e8",
   "metadata": {},
   "outputs": [
    {
     "name": "stdout",
     "output_type": "stream",
     "text": [
      "[ 1  2 12 12  5]\n"
     ]
    }
   ],
   "source": [
    "arr2[2:4] = 12\n",
    "print(arr2)\n",
    "# here each element in the slicing range gets replaced by 12 \n",
    "# or we can give equal length of elements to be replaced "
   ]
  },
  {
   "cell_type": "code",
   "execution_count": 67,
   "id": "89e9a0af",
   "metadata": {},
   "outputs": [
    {
     "name": "stdout",
     "output_type": "stream",
     "text": [
      "[5 5 5 5 5]\n"
     ]
    }
   ],
   "source": [
    "arr2[:] = 5\n",
    "\n",
    "print(arr2)"
   ]
  },
  {
   "cell_type": "code",
   "execution_count": 69,
   "id": "fe55a9d7",
   "metadata": {},
   "outputs": [
    {
     "name": "stdout",
     "output_type": "stream",
     "text": [
      "[1 2 3 4 5]\n"
     ]
    }
   ],
   "source": [
    "arr2[0:4] = 1,2,3,4  # given in form of tuple\n",
    "print(arr2)"
   ]
  },
  {
   "cell_type": "markdown",
   "id": "93b33e39",
   "metadata": {},
   "source": [
    "# slice assignment in 2D array - Broadcasting"
   ]
  },
  {
   "cell_type": "code",
   "execution_count": 70,
   "id": "75f2874c",
   "metadata": {},
   "outputs": [
    {
     "name": "stdout",
     "output_type": "stream",
     "text": [
      "[[ 0  1  2]\n",
      " [ 3  4  5]\n",
      " [ 6  7  8]\n",
      " [ 9 10 11]]\n"
     ]
    }
   ],
   "source": [
    "arr3 = np.arange(12).reshape(4,3)\n",
    "print(arr3)"
   ]
  },
  {
   "cell_type": "code",
   "execution_count": 71,
   "id": "a91c05ca",
   "metadata": {},
   "outputs": [
    {
     "data": {
      "text/plain": [
       "array([[3, 4],\n",
       "       [6, 7]])"
      ]
     },
     "execution_count": 71,
     "metadata": {},
     "output_type": "execute_result"
    }
   ],
   "source": [
    "arr3[1:3,:2]"
   ]
  },
  {
   "cell_type": "code",
   "execution_count": 73,
   "id": "b8b14bf3",
   "metadata": {},
   "outputs": [],
   "source": [
    "arr3[1:3,:2] = np.array([[33,44],[66,77]]) # the dimensions has to match or should be a scalar"
   ]
  },
  {
   "cell_type": "code",
   "execution_count": 74,
   "id": "0493aa6e",
   "metadata": {},
   "outputs": [
    {
     "name": "stdout",
     "output_type": "stream",
     "text": [
      "[[ 0  1  2]\n",
      " [33 44  5]\n",
      " [66 77  8]\n",
      " [ 9 10 11]]\n"
     ]
    }
   ],
   "source": [
    "print(arr3)"
   ]
  },
  {
   "cell_type": "code",
   "execution_count": 77,
   "id": "900695d3",
   "metadata": {},
   "outputs": [
    {
     "name": "stdout",
     "output_type": "stream",
     "text": [
      "[[ 0  1  2]\n",
      " [ 5  5  5]\n",
      " [ 5  5  8]\n",
      " [ 9 10 11]]\n"
     ]
    }
   ],
   "source": [
    "arr3[1:3,:2] = 5\n",
    "print(arr3)"
   ]
  },
  {
   "cell_type": "markdown",
   "id": "ed3ee4b3",
   "metadata": {},
   "source": [
    "-- > In broadcasting, while doing arithmetic on arrays, we either use a scalar value or array with same shape. \n"
   ]
  },
  {
   "cell_type": "code",
   "execution_count": 80,
   "id": "e69869dc",
   "metadata": {},
   "outputs": [
    {
     "name": "stdout",
     "output_type": "stream",
     "text": [
      "[[0]\n",
      " [1]\n",
      " [2]\n",
      " [3]]\n"
     ]
    },
    {
     "data": {
      "text/plain": [
       "(4, 1)"
      ]
     },
     "execution_count": 80,
     "metadata": {},
     "output_type": "execute_result"
    }
   ],
   "source": [
    "ar = np.arange(4).reshape(4,1)\n",
    "print(ar)\n",
    "ar.shape"
   ]
  },
  {
   "cell_type": "code",
   "execution_count": 81,
   "id": "37a492b2",
   "metadata": {},
   "outputs": [
    {
     "name": "stdout",
     "output_type": "stream",
     "text": [
      "[[[0]\n",
      "  [1]\n",
      "  [2]\n",
      "  [3]]]\n"
     ]
    },
    {
     "data": {
      "text/plain": [
       "(1, 4, 1)"
      ]
     },
     "execution_count": 81,
     "metadata": {},
     "output_type": "execute_result"
    }
   ],
   "source": [
    "ar = np.arange(4).reshape(1,4,1)\n",
    "print(ar)\n",
    "ar.shape"
   ]
  },
  {
   "cell_type": "markdown",
   "id": "cc6630cf",
   "metadata": {},
   "source": [
    "-> even if one of the pattern is mismatched while performing arithmetic, the operation does'nt work and is error\n",
    "\n",
    "\n",
    "RULES:\n",
    "-->1. BROADCASTING CAN BE DONE ON ARRAYS AS LONG AS THE LENGTH OF ELEMENTS ON ANY PARTICULAR DIMENSION IS EITHER THE SAME OR 1. \n",
    "\n",
    "-->2. INCASE THE NUMBER OF DIMENSIONS OF THE ARRAYS BEING BROADCASTED TOGETHER IS NOT THE SAME. THE SMALLER ARRAY GETS 1 PREPENDED ON EACH DIMENSION THAT IS SHORT \n",
    "ex, when array is (3,) and the to be added array is (2,4,3), then the added array is (1,1,3)\n",
    "(note: the scalar 1 is always prepended and never appended, if it had to append then it's an error and operation cannot be performed)\n",
    "\n",
    "-->3. OUTPUT SHAPE WILL ALWAYS BE THE SAME AS THE LARGER OF THE TWO ARRAYS BEING BROADCASTED. "
   ]
  },
  {
   "cell_type": "code",
   "execution_count": 83,
   "id": "305b9af4",
   "metadata": {
    "scrolled": true
   },
   "outputs": [
    {
     "name": "stdout",
     "output_type": "stream",
     "text": [
      "[[[ 0  1  2  3]\n",
      "  [ 4  5  6  7]\n",
      "  [ 8  9 10 11]]\n",
      "\n",
      " [[12 13 14 15]\n",
      "  [16 17 18 19]\n",
      "  [20 21 22 23]]]\n"
     ]
    }
   ],
   "source": [
    "arr1 = np.arange(24).reshape(2,3,4)\n",
    "\n",
    "print(arr1)"
   ]
  },
  {
   "cell_type": "code",
   "execution_count": 87,
   "id": "6c67d329",
   "metadata": {},
   "outputs": [
    {
     "name": "stdout",
     "output_type": "stream",
     "text": [
      "[0 1 2 3]\n"
     ]
    }
   ],
   "source": [
    "arr2 = np.arange(4)\n",
    "print(arr2)"
   ]
  },
  {
   "cell_type": "code",
   "execution_count": 88,
   "id": "690fc965",
   "metadata": {},
   "outputs": [
    {
     "data": {
      "text/plain": [
       "array([[[ 0,  2,  4,  6],\n",
       "        [ 4,  6,  8, 10],\n",
       "        [ 8, 10, 12, 14]],\n",
       "\n",
       "       [[12, 14, 16, 18],\n",
       "        [16, 18, 20, 22],\n",
       "        [20, 22, 24, 26]]])"
      ]
     },
     "execution_count": 88,
     "metadata": {},
     "output_type": "execute_result"
    }
   ],
   "source": [
    "arr1 + arr2"
   ]
  },
  {
   "cell_type": "code",
   "execution_count": 89,
   "id": "5f5d81b5",
   "metadata": {},
   "outputs": [
    {
     "name": "stdout",
     "output_type": "stream",
     "text": [
      "[[ 0  1  2  3]\n",
      " [ 4  5  6  7]\n",
      " [ 8  9 10 11]]\n"
     ]
    }
   ],
   "source": [
    "arr2 = np.arange(12).reshape(3,4)\n",
    "print(arr2)"
   ]
  },
  {
   "cell_type": "code",
   "execution_count": 90,
   "id": "7d62f923",
   "metadata": {},
   "outputs": [
    {
     "data": {
      "text/plain": [
       "array([[[ 0,  2,  4,  6],\n",
       "        [ 8, 10, 12, 14],\n",
       "        [16, 18, 20, 22]],\n",
       "\n",
       "       [[12, 14, 16, 18],\n",
       "        [20, 22, 24, 26],\n",
       "        [28, 30, 32, 34]]])"
      ]
     },
     "execution_count": 90,
     "metadata": {},
     "output_type": "execute_result"
    }
   ],
   "source": [
    "arr1 + arr2"
   ]
  },
  {
   "cell_type": "code",
   "execution_count": 93,
   "id": "190a6b08",
   "metadata": {},
   "outputs": [
    {
     "name": "stdout",
     "output_type": "stream",
     "text": [
      "[[[0 1 2 3]]\n",
      "\n",
      " [[4 5 6 7]]]\n"
     ]
    }
   ],
   "source": [
    "arr2 = np.arange(8).reshape(2,1,4)\n",
    "print(arr2)"
   ]
  },
  {
   "cell_type": "code",
   "execution_count": 94,
   "id": "641d1cd0",
   "metadata": {},
   "outputs": [
    {
     "data": {
      "text/plain": [
       "array([[[ 0,  2,  4,  6],\n",
       "        [ 4,  6,  8, 10],\n",
       "        [ 8, 10, 12, 14]],\n",
       "\n",
       "       [[16, 18, 20, 22],\n",
       "        [20, 22, 24, 26],\n",
       "        [24, 26, 28, 30]]])"
      ]
     },
     "execution_count": 94,
     "metadata": {},
     "output_type": "execute_result"
    }
   ],
   "source": [
    "arr1 + arr2"
   ]
  },
  {
   "cell_type": "code",
   "execution_count": 96,
   "id": "e611d666",
   "metadata": {},
   "outputs": [
    {
     "name": "stdout",
     "output_type": "stream",
     "text": [
      "[ 0  1  2  3  4  5  6  7  8  9 10 11]\n",
      "[[[ 0  1  2  3  4  5  6  7  8  9 10 11]]]\n"
     ]
    }
   ],
   "source": [
    "# To get the same array but 3 dimensional\n",
    "ar = np.arange(12)\n",
    "print(ar)\n",
    "arr = np.arange(12).reshape(1,1,12)\n",
    "print(arr)"
   ]
  },
  {
   "cell_type": "markdown",
   "id": "c4ffd940",
   "metadata": {},
   "source": [
    "# Boolean indexing: "
   ]
  },
  {
   "cell_type": "code",
   "execution_count": 98,
   "id": "aa3f0d40",
   "metadata": {},
   "outputs": [
    {
     "name": "stdout",
     "output_type": "stream",
     "text": [
      "[0 1 2 3 4 5 6 7 8 9]\n"
     ]
    }
   ],
   "source": [
    "arr1 = np.arange(10)\n",
    "print(arr1)"
   ]
  },
  {
   "cell_type": "code",
   "execution_count": 100,
   "id": "e76dbec2",
   "metadata": {},
   "outputs": [
    {
     "name": "stdout",
     "output_type": "stream",
     "text": [
      "[  0 100 200 300 400 500 600 700 800 900]\n"
     ]
    }
   ],
   "source": [
    "print(arr1 * 100)"
   ]
  },
  {
   "cell_type": "code",
   "execution_count": 104,
   "id": "56eea588",
   "metadata": {},
   "outputs": [
    {
     "name": "stdout",
     "output_type": "stream",
     "text": [
      "[False False False False False False  True  True  True  True]\n"
     ]
    }
   ],
   "source": [
    "print(arr1 > 5)"
   ]
  },
  {
   "cell_type": "code",
   "execution_count": 105,
   "id": "32cd87e2",
   "metadata": {},
   "outputs": [
    {
     "name": "stdout",
     "output_type": "stream",
     "text": [
      "[ 101  120   38  394   75 1004]\n"
     ]
    }
   ],
   "source": [
    "arr1 = np.array([101,120,38,394,75,1004])\n",
    "print(arr1)"
   ]
  },
  {
   "cell_type": "code",
   "execution_count": 107,
   "id": "112db644",
   "metadata": {},
   "outputs": [
    {
     "data": {
      "text/plain": [
       "array([ True,  True, False,  True, False,  True])"
      ]
     },
     "execution_count": 107,
     "metadata": {},
     "output_type": "execute_result"
    }
   ],
   "source": [
    "arr1 > 100 # shows true or false"
   ]
  },
  {
   "cell_type": "code",
   "execution_count": 106,
   "id": "e76c6348",
   "metadata": {},
   "outputs": [
    {
     "data": {
      "text/plain": [
       "array([ 101,  120,  394, 1004])"
      ]
     },
     "execution_count": 106,
     "metadata": {},
     "output_type": "execute_result"
    }
   ],
   "source": [
    "arr1[arr1>100] # only values corresponding to true are returning"
   ]
  },
  {
   "cell_type": "code",
   "execution_count": 114,
   "id": "ea5fab2e",
   "metadata": {},
   "outputs": [
    {
     "name": "stdout",
     "output_type": "stream",
     "text": [
      "['Bob' 'John' 'steve' 'will' 'Bob' 'steve' 'Bob']\n"
     ]
    }
   ],
   "source": [
    "names = np.array(['Bob', 'John', 'steve', 'will', 'Bob', 'steve', 'Bob'])\n",
    "print(names)"
   ]
  },
  {
   "cell_type": "code",
   "execution_count": 115,
   "id": "eb2f5862",
   "metadata": {},
   "outputs": [
    {
     "name": "stdout",
     "output_type": "stream",
     "text": [
      "[ True False False False  True False  True]\n"
     ]
    }
   ],
   "source": [
    "print(names == \"Bob\")"
   ]
  },
  {
   "cell_type": "code",
   "execution_count": 116,
   "id": "18b2fdca",
   "metadata": {},
   "outputs": [
    {
     "name": "stdout",
     "output_type": "stream",
     "text": [
      "[ True False False False  True False  True]\n"
     ]
    }
   ],
   "source": [
    "names_bool = names == \"Bob\"\n",
    "print(names_bool)"
   ]
  },
  {
   "cell_type": "code",
   "execution_count": 118,
   "id": "d00ced2a",
   "metadata": {},
   "outputs": [
    {
     "name": "stdout",
     "output_type": "stream",
     "text": [
      "[3 5 6 6 7 3 8]\n"
     ]
    }
   ],
   "source": [
    "data = np.random.randint(1, 10, 7)\n",
    "print(data)"
   ]
  },
  {
   "cell_type": "code",
   "execution_count": 119,
   "id": "f2f7c71e",
   "metadata": {},
   "outputs": [
    {
     "data": {
      "text/plain": [
       "array([3, 7, 8])"
      ]
     },
     "execution_count": 119,
     "metadata": {},
     "output_type": "execute_result"
    }
   ],
   "source": [
    "data[names_bool]"
   ]
  },
  {
   "cell_type": "code",
   "execution_count": 120,
   "id": "6850305b",
   "metadata": {},
   "outputs": [
    {
     "name": "stdout",
     "output_type": "stream",
     "text": [
      "[[ 0  1  2  3  4  5  6]\n",
      " [ 7  8  9 10 11 12 13]\n",
      " [14 15 16 17 18 19 20]\n",
      " [21 22 23 24 25 26 27]\n",
      " [28 29 30 31 32 33 34]\n",
      " [35 36 37 38 39 40 41]\n",
      " [42 43 44 45 46 47 48]]\n"
     ]
    }
   ],
   "source": [
    "data = np.arange(49).reshape(7,7)\n",
    "print(data)"
   ]
  },
  {
   "cell_type": "code",
   "execution_count": 121,
   "id": "80a85943",
   "metadata": {},
   "outputs": [
    {
     "data": {
      "text/plain": [
       "array([[ 0,  1,  2,  3,  4,  5,  6],\n",
       "       [28, 29, 30, 31, 32, 33, 34],\n",
       "       [42, 43, 44, 45, 46, 47, 48]])"
      ]
     },
     "execution_count": 121,
     "metadata": {},
     "output_type": "execute_result"
    }
   ],
   "source": [
    "data[names_bool] # it applies to 0 axis \n",
    "# note that names_bool have 7 elements and the pattern should match"
   ]
  },
  {
   "cell_type": "code",
   "execution_count": 122,
   "id": "c6f1178d",
   "metadata": {},
   "outputs": [
    {
     "data": {
      "text/plain": [
       "array([[ 0,  4,  6],\n",
       "       [ 7, 11, 13],\n",
       "       [14, 18, 20],\n",
       "       [21, 25, 27],\n",
       "       [28, 32, 34],\n",
       "       [35, 39, 41],\n",
       "       [42, 46, 48]])"
      ]
     },
     "execution_count": 122,
     "metadata": {},
     "output_type": "execute_result"
    }
   ],
   "source": [
    "data[:, names_bool] # it applies to 1 axis here. "
   ]
  },
  {
   "cell_type": "code",
   "execution_count": 124,
   "id": "9930dcf7",
   "metadata": {},
   "outputs": [
    {
     "data": {
      "text/plain": [
       "array([ 0, 32, 48])"
      ]
     },
     "execution_count": 124,
     "metadata": {},
     "output_type": "execute_result"
    }
   ],
   "source": [
    "data[names_bool, names_bool] # why is this doing a diagonal?? "
   ]
  },
  {
   "cell_type": "code",
   "execution_count": 128,
   "id": "669a3de2",
   "metadata": {},
   "outputs": [
    {
     "data": {
      "text/plain": [
       "array([[ 0,  4,  6],\n",
       "       [28, 32, 34],\n",
       "       [42, 46, 48]])"
      ]
     },
     "execution_count": 128,
     "metadata": {},
     "output_type": "execute_result"
    }
   ],
   "source": [
    "data[names_bool,:][:,names_bool]"
   ]
  },
  {
   "cell_type": "code",
   "execution_count": 129,
   "id": "9e78b811",
   "metadata": {},
   "outputs": [
    {
     "name": "stdout",
     "output_type": "stream",
     "text": [
      "[[[ 0  1  2  3  4  5  6]\n",
      "  [ 7  8  9 10 11 12 13]\n",
      "  [14 15 16 17 18 19 20]]\n",
      "\n",
      " [[21 22 23 24 25 26 27]\n",
      "  [28 29 30 31 32 33 34]\n",
      "  [35 36 37 38 39 40 41]]]\n"
     ]
    }
   ],
   "source": [
    "data = np.arange(42).reshape(2,3,7)\n",
    "print(data)"
   ]
  },
  {
   "cell_type": "code",
   "execution_count": 130,
   "id": "af2070cd",
   "metadata": {},
   "outputs": [
    {
     "data": {
      "text/plain": [
       "array([[[ 0,  4,  6],\n",
       "        [ 7, 11, 13],\n",
       "        [14, 18, 20]],\n",
       "\n",
       "       [[21, 25, 27],\n",
       "        [28, 32, 34],\n",
       "        [35, 39, 41]]])"
      ]
     },
     "execution_count": 130,
     "metadata": {},
     "output_type": "execute_result"
    }
   ],
   "source": [
    "data[:,:,names_bool]"
   ]
  },
  {
   "cell_type": "markdown",
   "id": "e40598c3",
   "metadata": {},
   "source": [
    "# Here for broadcasting the values of names_bool in data, we need to have a pattern match with the array, if the pattern doesn't match, then the broadcasting on slicing doesn't work "
   ]
  },
  {
   "cell_type": "code",
   "execution_count": 148,
   "id": "addb8ab7",
   "metadata": {},
   "outputs": [
    {
     "name": "stdout",
     "output_type": "stream",
     "text": [
      "[1 2 3 4]\n",
      "<class 'numpy.ndarray'>\n",
      "[1 2 3 4]\n",
      "<class 'numpy.ndarray'>\n"
     ]
    }
   ],
   "source": [
    "list1 = [1,2,3,4]\n",
    "np_array = np.array(list1)\n",
    "np_asarray = np.asarray(list1)\n",
    "#list1[0] = 11\n",
    "print(np_array)\n",
    "print(type(np_array))\n",
    "\n",
    "print(np_asarray)\n",
    "print(type(np_asarray))"
   ]
  },
  {
   "cell_type": "code",
   "execution_count": 149,
   "id": "47ae7b6c",
   "metadata": {},
   "outputs": [
    {
     "name": "stdout",
     "output_type": "stream",
     "text": [
      "[2 3 4 5]\n",
      "[11  3  4  5]\n"
     ]
    }
   ],
   "source": [
    "a = np.array([2,3,4,5])\n",
    "\n",
    "np_array = np.array(a)\n",
    "a[0] = 11\n",
    "print(np_array) # does not reflect the changes made in original array\n",
    "\n",
    "np_asarray = np.asarray(a)\n",
    "a[0] = 11\n",
    "print(np_asarray) # does reflect the changes made to original array"
   ]
  },
  {
   "cell_type": "markdown",
   "id": "3f8bc607",
   "metadata": {},
   "source": [
    "# Homogenous n- dimensional vectors:"
   ]
  },
  {
   "cell_type": "code",
   "execution_count": 151,
   "id": "415c00f6",
   "metadata": {},
   "outputs": [
    {
     "name": "stdout",
     "output_type": "stream",
     "text": [
      "[0 0 0 0 0 0 0 0 0 0]\n"
     ]
    }
   ],
   "source": [
    "np_zeros = np.zeros(10)\n",
    "print(np_zeros)"
   ]
  },
  {
   "cell_type": "code",
   "execution_count": 152,
   "id": "035f1627",
   "metadata": {},
   "outputs": [
    {
     "name": "stdout",
     "output_type": "stream",
     "text": [
      "[0 0 0 0 0 0 0 0 0 0]\n"
     ]
    }
   ],
   "source": [
    "np_zeros = np.zeros(10, dtype = int)\n",
    "print(np_zeros)"
   ]
  },
  {
   "cell_type": "code",
   "execution_count": 156,
   "id": "4f8fea68",
   "metadata": {},
   "outputs": [
    {
     "name": "stdout",
     "output_type": "stream",
     "text": [
      "[[0. 0. 0.]\n",
      " [0. 0. 0.]]\n"
     ]
    }
   ],
   "source": [
    "np_zero1 = np.zeros([2,3])\n",
    "print(np_zero1)"
   ]
  },
  {
   "cell_type": "code",
   "execution_count": 157,
   "id": "d4de75ee",
   "metadata": {},
   "outputs": [
    {
     "name": "stdout",
     "output_type": "stream",
     "text": [
      "[1. 1. 1. 1. 1. 1. 1. 1. 1. 1.]\n"
     ]
    }
   ],
   "source": [
    "np_one = np.ones(10)\n",
    "print(np_one)"
   ]
  },
  {
   "cell_type": "code",
   "execution_count": 159,
   "id": "cda354a6",
   "metadata": {},
   "outputs": [
    {
     "name": "stdout",
     "output_type": "stream",
     "text": [
      "[[[1 1 1 1]\n",
      "  [1 1 1 1]\n",
      "  [1 1 1 1]]\n",
      "\n",
      " [[1 1 1 1]\n",
      "  [1 1 1 1]\n",
      "  [1 1 1 1]]]\n"
     ]
    }
   ],
   "source": [
    "np_one1 = np.ones((2,3,4),dtype = int)\n",
    "print(np_one1)"
   ]
  },
  {
   "cell_type": "code",
   "execution_count": 160,
   "id": "66488d49",
   "metadata": {},
   "outputs": [
    {
     "name": "stdout",
     "output_type": "stream",
     "text": [
      "[5 5 5 5 5 5 5 5 5 5]\n"
     ]
    }
   ],
   "source": [
    "# Two parameters are important, first is the number of elements and second is what the value should be\n",
    "\n",
    "np_full = np.full(10,5) \n",
    "print(np_full)"
   ]
  },
  {
   "cell_type": "code",
   "execution_count": 162,
   "id": "19c86777",
   "metadata": {},
   "outputs": [
    {
     "name": "stdout",
     "output_type": "stream",
     "text": [
      "[['a' 'a' 'a']\n",
      " ['a' 'a' 'a']]\n"
     ]
    }
   ],
   "source": [
    "np_full_a = np.full([2,3], \"a\")\n",
    "print(np_full_a)"
   ]
  },
  {
   "cell_type": "code",
   "execution_count": 163,
   "id": "e4357a00",
   "metadata": {},
   "outputs": [
    {
     "name": "stdout",
     "output_type": "stream",
     "text": [
      "[[[5 5 5 5]\n",
      "  [5 5 5 5]\n",
      "  [5 5 5 5]]\n",
      "\n",
      " [[5 5 5 5]\n",
      "  [5 5 5 5]\n",
      "  [5 5 5 5]]]\n"
     ]
    }
   ],
   "source": [
    "np_full_5 = np.full((2,3,4), 5)\n",
    "print(np_full_5)"
   ]
  },
  {
   "cell_type": "code",
   "execution_count": 166,
   "id": "7d75f539",
   "metadata": {},
   "outputs": [
    {
     "name": "stdout",
     "output_type": "stream",
     "text": [
      "[None None None None None None None None None None]\n",
      "<class 'NoneType'>\n"
     ]
    }
   ],
   "source": [
    "np_nan = np.full(10, None)\n",
    "print(np_nan)\n",
    "print(type(np_nan[0])) # checking dtype of element in the array, not the array itself"
   ]
  },
  {
   "cell_type": "code",
   "execution_count": 168,
   "id": "e841e53d",
   "metadata": {},
   "outputs": [
    {
     "name": "stdout",
     "output_type": "stream",
     "text": [
      "[2.1312229e-314 2.1312229e-314 2.1312229e-314 2.1312229e-314\n",
      " 2.1312229e-314 2.1312229e-314 2.1312229e-314 2.1312229e-314\n",
      " 2.1312229e-314 2.1312229e-314]\n"
     ]
    }
   ],
   "source": [
    "np_empty = np.empty(10)\n",
    "print(np_empty) # takes garbage values"
   ]
  },
  {
   "cell_type": "code",
   "execution_count": 176,
   "id": "cc02b076",
   "metadata": {},
   "outputs": [
    {
     "name": "stdout",
     "output_type": "stream",
     "text": [
      "[[0. 0.]\n",
      " [0. 0.]\n",
      " [0. 0.]]\n"
     ]
    }
   ],
   "source": [
    "np_empty1 = np.empty((3,2))\n",
    "print(np_empty1)\n",
    "# takes any garbage values"
   ]
  },
  {
   "cell_type": "code",
   "execution_count": 177,
   "id": "f48f77a1",
   "metadata": {},
   "outputs": [],
   "source": [
    "# Identity matrix is matrix of size nXn with ones on the diagonal and zeros elsewhere"
   ]
  },
  {
   "cell_type": "code",
   "execution_count": 181,
   "id": "13fc735b",
   "metadata": {},
   "outputs": [
    {
     "name": "stdout",
     "output_type": "stream",
     "text": [
      "[[1 0 0 0 0]\n",
      " [0 1 0 0 0]\n",
      " [0 0 1 0 0]\n",
      " [0 0 0 1 0]\n",
      " [0 0 0 0 1]]\n"
     ]
    }
   ],
   "source": [
    "np_id_int = np.identity(5, dtype = int)\n",
    "print(np_id_int)"
   ]
  },
  {
   "cell_type": "code",
   "execution_count": 180,
   "id": "b7d80c76",
   "metadata": {},
   "outputs": [
    {
     "name": "stdout",
     "output_type": "stream",
     "text": [
      "[[ True False False False False]\n",
      " [False  True False False False]\n",
      " [False False  True False False]\n",
      " [False False False  True False]\n",
      " [False False False False  True]]\n"
     ]
    }
   ],
   "source": [
    "np_id = np.identity(5, dtype = bool)\n",
    "print(np_id)"
   ]
  },
  {
   "cell_type": "code",
   "execution_count": 183,
   "id": "d5914de7",
   "metadata": {},
   "outputs": [
    {
     "name": "stdout",
     "output_type": "stream",
     "text": [
      "[[1 0 0 0 0]\n",
      " [0 1 0 0 0]\n",
      " [0 0 1 0 0]\n",
      " [0 0 0 1 0]\n",
      " [0 0 0 0 1]]\n"
     ]
    }
   ],
   "source": [
    "np_eye = np.eye(5, dtype = int)\n",
    "print(np_eye)"
   ]
  },
  {
   "cell_type": "code",
   "execution_count": 186,
   "id": "0fdebf0f",
   "metadata": {},
   "outputs": [
    {
     "name": "stdout",
     "output_type": "stream",
     "text": [
      "[[1 0 0 0]\n",
      " [0 1 0 0]\n",
      " [0 0 1 0]\n",
      " [0 0 0 1]\n",
      " [0 0 0 0]]\n"
     ]
    }
   ],
   "source": [
    "# one difference between identity and eye matrix function is, with eye we can create an assymmetric identity \n",
    "# matrix. It is not a proper identity matrix\n",
    "np_eye_asym = np.eye(5,4, dtype = int)\n",
    "print(np_eye_asym)"
   ]
  },
  {
   "cell_type": "code",
   "execution_count": 187,
   "id": "0db2850c",
   "metadata": {},
   "outputs": [
    {
     "name": "stdout",
     "output_type": "stream",
     "text": [
      "[[0 1 0 0 0]\n",
      " [0 0 1 0 0]\n",
      " [0 0 0 1 0]\n",
      " [0 0 0 0 1]\n",
      " [0 0 0 0 0]]\n"
     ]
    }
   ],
   "source": [
    "np_eye = np.eye(5, dtype = int, k = 1)\n",
    "print(np_eye)\n",
    "# here k is which index we want the diagonal to start from"
   ]
  },
  {
   "cell_type": "code",
   "execution_count": 188,
   "id": "704ba82e",
   "metadata": {},
   "outputs": [
    {
     "name": "stdout",
     "output_type": "stream",
     "text": [
      "[[0 0 0 0 0]\n",
      " [0 0 0 0 0]\n",
      " [1 0 0 0 0]\n",
      " [0 1 0 0 0]\n",
      " [0 0 1 0 0]]\n"
     ]
    }
   ],
   "source": [
    "np_eye = np.eye(5, dtype = int, k = -2)\n",
    "print(np_eye)"
   ]
  },
  {
   "cell_type": "markdown",
   "id": "9c559c82",
   "metadata": {},
   "source": [
    "eye matrix can only be done in 2 dimension, so instead of specifying k to shift the diagonal, it can be given directly after the second dimension too.\n",
    "--> k=1 shifts the diagonal element to 1 side above from diagonal, whereas k = -1 shifts the diagonal element to 1 side below it "
   ]
  },
  {
   "cell_type": "code",
   "execution_count": 191,
   "id": "b111ab42",
   "metadata": {},
   "outputs": [
    {
     "name": "stdout",
     "output_type": "stream",
     "text": [
      "[[0 0 0 0 0 0]\n",
      " [1 0 0 0 0 0]\n",
      " [0 1 0 0 0 0]\n",
      " [0 0 1 0 0 0]\n",
      " [0 0 0 1 0 0]\n",
      " [0 0 0 0 1 0]]\n"
     ]
    }
   ],
   "source": [
    "np_eye_d = np.eye(6,6,-1, dtype = int)\n",
    "print(np_eye_d)"
   ]
  },
  {
   "cell_type": "code",
   "execution_count": 192,
   "id": "7446d775",
   "metadata": {},
   "outputs": [
    {
     "name": "stdout",
     "output_type": "stream",
     "text": [
      "[[1 0 0 0 0 0]\n",
      " [0 5 0 0 0 0]\n",
      " [0 0 7 0 0 0]\n",
      " [0 0 0 3 0 0]\n",
      " [0 0 0 0 2 0]\n",
      " [0 0 0 0 0 9]]\n"
     ]
    }
   ],
   "source": [
    "list1 = [1,5,7,3,2,9]\n",
    "\n",
    "np_diag = np.diag(list1)\n",
    "print(np_diag)\n",
    "\n",
    "# we need not specify any dimensions here. it's taken according to given list of elements"
   ]
  },
  {
   "cell_type": "code",
   "execution_count": 193,
   "id": "363894da",
   "metadata": {},
   "outputs": [
    {
     "data": {
      "text/plain": [
       "array([[0, 0, 0, 0, 0, 0, 0, 0, 0, 0],\n",
       "       [0, 1, 0, 0, 0, 0, 0, 0, 0, 0],\n",
       "       [0, 0, 2, 0, 0, 0, 0, 0, 0, 0],\n",
       "       [0, 0, 0, 3, 0, 0, 0, 0, 0, 0],\n",
       "       [0, 0, 0, 0, 4, 0, 0, 0, 0, 0],\n",
       "       [0, 0, 0, 0, 0, 5, 0, 0, 0, 0],\n",
       "       [0, 0, 0, 0, 0, 0, 6, 0, 0, 0],\n",
       "       [0, 0, 0, 0, 0, 0, 0, 7, 0, 0],\n",
       "       [0, 0, 0, 0, 0, 0, 0, 0, 8, 0],\n",
       "       [0, 0, 0, 0, 0, 0, 0, 0, 0, 9]])"
      ]
     },
     "execution_count": 193,
     "metadata": {},
     "output_type": "execute_result"
    }
   ],
   "source": [
    "np_diag1 = np.diag(list(range(10)))\n",
    "np_diag1"
   ]
  },
  {
   "cell_type": "code",
   "execution_count": 202,
   "id": "f7b8f92c",
   "metadata": {},
   "outputs": [
    {
     "name": "stdout",
     "output_type": "stream",
     "text": [
      "[[ 0  1  2  3  4]\n",
      " [ 5  6  7  8  9]\n",
      " [10 11 12 13 14]\n",
      " [15 16 17 18 19]\n",
      " [20 21 22 23 24]]\n"
     ]
    }
   ],
   "source": [
    "np_num = np.arange(25).reshape(5,5)\n",
    "print(np_num)"
   ]
  },
  {
   "cell_type": "code",
   "execution_count": 203,
   "id": "1d30a43a",
   "metadata": {},
   "outputs": [
    {
     "name": "stdout",
     "output_type": "stream",
     "text": [
      "[ 0  6 12 18 24]\n"
     ]
    }
   ],
   "source": [
    "np_diag = np.diag(np_num)\n",
    "print(np_diag)"
   ]
  },
  {
   "cell_type": "code",
   "execution_count": 205,
   "id": "f39dd01b",
   "metadata": {},
   "outputs": [
    {
     "name": "stdout",
     "output_type": "stream",
     "text": [
      "[10 16 22]\n"
     ]
    }
   ],
   "source": [
    "np_diag = np.diag(np_num, k = -2)\n",
    "print(np_diag)"
   ]
  },
  {
   "cell_type": "code",
   "execution_count": 207,
   "id": "182b3a91",
   "metadata": {},
   "outputs": [
    {
     "name": "stdout",
     "output_type": "stream",
     "text": [
      "[[ 0  1  2  3  4  5  6  7]\n",
      " [ 8  9 10 11 12 13 14 15]\n",
      " [16 17 18 19 20 21 22 23]\n",
      " [24 25 26 27 28 29 30 31]]\n"
     ]
    }
   ],
   "source": [
    "np_asm = np.arange(32).reshape(4,8)\n",
    "print(np_asm)"
   ]
  },
  {
   "cell_type": "code",
   "execution_count": 210,
   "id": "a6d8f067",
   "metadata": {},
   "outputs": [
    {
     "name": "stdout",
     "output_type": "stream",
     "text": [
      "[ 3 12 21 30]\n"
     ]
    }
   ],
   "source": [
    "np_diag = np.diag(np_asm, k = 3)\n",
    "print(np_diag)\n",
    "\n",
    "# can be used on asymmetric matrices as well"
   ]
  },
  {
   "cell_type": "markdown",
   "id": "76739627",
   "metadata": {},
   "source": [
    "From function:\n",
    "-> create an array by executing a function over each coordinates. let's create a vector based on its indices: \n",
    "\n",
    "-> for fromfunction, we cannot supply an array, we have to supply a shape. so the array shape that we provide is taken as the coordinates equvivalent to x,y"
   ]
  },
  {
   "cell_type": "code",
   "execution_count": 211,
   "id": "dcb303e6",
   "metadata": {},
   "outputs": [
    {
     "name": "stdout",
     "output_type": "stream",
     "text": [
      "[[ 0 -1 -2]\n",
      " [ 1  0 -1]\n",
      " [ 2  1  0]]\n"
     ]
    }
   ],
   "source": [
    "np_fromf = np.fromfunction(lambda x,y : x-y, (3,3), dtype = int)\n",
    "print(np_fromf)"
   ]
  },
  {
   "cell_type": "code",
   "execution_count": 216,
   "id": "40a28107",
   "metadata": {},
   "outputs": [
    {
     "name": "stdout",
     "output_type": "stream",
     "text": [
      "[ 0  5 10]\n"
     ]
    }
   ],
   "source": [
    "np_ff = np.fromfunction(lambda x : x*5, (3,), dtype = int)\n",
    "print(np_ff)"
   ]
  },
  {
   "cell_type": "code",
   "execution_count": 218,
   "id": "663b0002",
   "metadata": {},
   "outputs": [
    {
     "name": "stdout",
     "output_type": "stream",
     "text": [
      "[[ 0  3  6  9 12]\n",
      " [ 2  5  8 11 14]\n",
      " [ 4  7 10 13 16]]\n"
     ]
    }
   ],
   "source": [
    "np_ff = np.fromfunction(lambda x,y : x*2+y*3, (3,5), dtype = int)\n",
    "print(np_ff)"
   ]
  },
  {
   "cell_type": "code",
   "execution_count": 219,
   "id": "284be991",
   "metadata": {},
   "outputs": [
    {
     "name": "stdout",
     "output_type": "stream",
     "text": [
      "[[[0 0 0 0 0]\n",
      "  [1 1 1 1 1]\n",
      "  [2 2 2 2 2]\n",
      "  [3 3 3 3 3]]\n",
      "\n",
      " [[1 1 1 1 1]\n",
      "  [2 2 2 2 2]\n",
      "  [3 3 3 3 3]\n",
      "  [4 4 4 4 4]]\n",
      "\n",
      " [[2 2 2 2 2]\n",
      "  [3 3 3 3 3]\n",
      "  [4 4 4 4 4]\n",
      "  [5 5 5 5 5]]]\n"
     ]
    }
   ],
   "source": [
    "np_ff = np.fromfunction(lambda x,y,z : x+y, (3,4,5), dtype = int)\n",
    "print(np_ff)"
   ]
  },
  {
   "cell_type": "code",
   "execution_count": 220,
   "id": "cf83f630",
   "metadata": {},
   "outputs": [
    {
     "name": "stdout",
     "output_type": "stream",
     "text": [
      "[[ 0  1  2  3]\n",
      " [ 4  5  6  7]\n",
      " [ 8  9 10 11]]\n"
     ]
    }
   ],
   "source": [
    "np_sample = np.arange(12).reshape(3,4)\n",
    "print(np_sample)"
   ]
  },
  {
   "cell_type": "code",
   "execution_count": 226,
   "id": "acf28ca8",
   "metadata": {},
   "outputs": [
    {
     "name": "stdout",
     "output_type": "stream",
     "text": [
      "[ 6 22 38]\n",
      "[ 6 22 38]\n"
     ]
    }
   ],
   "source": [
    "# otherway to do sum \n",
    "np_sum = np.sum(np_sample, axis = 1)\n",
    "print(np_sum)\n",
    "# one way\n",
    "print(np_sample.sum(axis = 1))"
   ]
  },
  {
   "cell_type": "markdown",
   "id": "9f98e78e",
   "metadata": {},
   "source": [
    "similarly, np.prod() gives the product of two arrays"
   ]
  },
  {
   "cell_type": "code",
   "execution_count": 229,
   "id": "6ba9400e",
   "metadata": {},
   "outputs": [
    {
     "name": "stdout",
     "output_type": "stream",
     "text": [
      "[[1 2 3]\n",
      " [4 5 6]]\n"
     ]
    }
   ],
   "source": [
    "np_sample = np.arange(1,7).reshape(2,3)\n",
    "print(np_sample)"
   ]
  },
  {
   "cell_type": "code",
   "execution_count": 230,
   "id": "9d9cb0a7",
   "metadata": {},
   "outputs": [
    {
     "name": "stdout",
     "output_type": "stream",
     "text": [
      "720\n"
     ]
    }
   ],
   "source": [
    "np_prod = np_sample.prod()\n",
    "print(np_prod)"
   ]
  },
  {
   "cell_type": "code",
   "execution_count": 233,
   "id": "4a5b1cc8",
   "metadata": {},
   "outputs": [
    {
     "name": "stdout",
     "output_type": "stream",
     "text": [
      "[  6 120]\n"
     ]
    }
   ],
   "source": [
    "np_prod1 = np_sample.prod(axis = 1)\n",
    "print(np_prod1)"
   ]
  },
  {
   "cell_type": "code",
   "execution_count": 235,
   "id": "35813c75",
   "metadata": {},
   "outputs": [
    {
     "name": "stdout",
     "output_type": "stream",
     "text": [
      "[ 4 10 18]\n"
     ]
    }
   ],
   "source": [
    "np_prod0 = np_sample.prod(axis = 0)\n",
    "print(np_prod0)"
   ]
  },
  {
   "cell_type": "code",
   "execution_count": 236,
   "id": "47ac3d58",
   "metadata": {},
   "outputs": [
    {
     "name": "stdout",
     "output_type": "stream",
     "text": [
      "[[[ 1  2  3  4]\n",
      "  [ 5  6  7  8]\n",
      "  [ 9 10 11 12]]\n",
      "\n",
      " [[13 14 15 16]\n",
      "  [17 18 19 20]\n",
      "  [21 22 23 24]]]\n"
     ]
    }
   ],
   "source": [
    "np_sample = np.arange(1,25).reshape(2,3,4)\n",
    "print(np_sample)"
   ]
  },
  {
   "cell_type": "code",
   "execution_count": 238,
   "id": "6a98d838",
   "metadata": {},
   "outputs": [
    {
     "name": "stdout",
     "output_type": "stream",
     "text": [
      "[[ 13  28  45  64]\n",
      " [ 85 108 133 160]\n",
      " [189 220 253 288]]\n"
     ]
    }
   ],
   "source": [
    "np_prod1 = np_sample.prod(axis = 0)\n",
    "print(np_prod1)"
   ]
  },
  {
   "cell_type": "code",
   "execution_count": 241,
   "id": "33e0a0e6",
   "metadata": {},
   "outputs": [
    {
     "name": "stdout",
     "output_type": "stream",
     "text": [
      "[[    24   1680  11880]\n",
      " [ 43680 116280 255024]]\n",
      "[[ 13  28  45  64]\n",
      " [ 85 108 133 160]\n",
      " [189 220 253 288]]\n"
     ]
    }
   ],
   "source": [
    "np_prod1 = np_sample.prod(axis = 2)\n",
    "print(np_prod1)\n",
    "np_prod1 = np_sample.prod(0) # we don't need to specify the keyword axis inside the prod function in numpy.. \n",
    "print(np_prod1)"
   ]
  },
  {
   "cell_type": "code",
   "execution_count": 242,
   "id": "1e3ceaf2",
   "metadata": {},
   "outputs": [
    {
     "name": "stdout",
     "output_type": "stream",
     "text": [
      "[[[ 0  1  2  3  4]\n",
      "  [ 5  6  7  8  9]\n",
      "  [10 11 12 13 14]\n",
      "  [15 16 17 18 19]\n",
      "  [20 21 22 23 24]]\n",
      "\n",
      " [[25 26 27 28 29]\n",
      "  [30 31 32 33 34]\n",
      "  [35 36 37 38 39]\n",
      "  [40 41 42 43 44]\n",
      "  [45 46 47 48 49]]\n",
      "\n",
      " [[50 51 52 53 54]\n",
      "  [55 56 57 58 59]\n",
      "  [60 61 62 63 64]\n",
      "  [65 66 67 68 69]\n",
      "  [70 71 72 73 74]]\n",
      "\n",
      " [[75 76 77 78 79]\n",
      "  [80 81 82 83 84]\n",
      "  [85 86 87 88 89]\n",
      "  [90 91 92 93 94]\n",
      "  [95 96 97 98 99]]]\n"
     ]
    }
   ],
   "source": [
    "np_arr = np.arange(100).reshape(4,5,5)\n",
    "print(np_arr)"
   ]
  },
  {
   "cell_type": "code",
   "execution_count": 244,
   "id": "97a0a757",
   "metadata": {},
   "outputs": [
    {
     "name": "stdout",
     "output_type": "stream",
     "text": [
      "[ 0  1  2  3  4  5  6  7  8  9 10 11 12 13 14 15 16 17 18 19 20 21 22 23\n",
      " 24 25 26 27 28 29 30 31 32 33 34 35 36 37 38 39 40 41 42 43 44 45 46 47\n",
      " 48 49 50 51 52 53 54 55 56 57 58 59 60 61 62 63 64 65 66 67 68 69 70 71\n",
      " 72 73 74 75 76 77 78 79 80 81 82 83 84 85 86 87 88 89 90 91 92 93 94 95\n",
      " 96 97 98 99]\n"
     ]
    }
   ],
   "source": [
    "np_flat = np_arr.flatten()\n",
    "print(np_flat)\n",
    "\n",
    "# flatten() takes an array of any dimension and converts it to 1 D array"
   ]
  },
  {
   "cell_type": "markdown",
   "id": "42cae5ae",
   "metadata": {},
   "source": [
    "ndarray.max : Return the maximum along the given axis\n",
    "\n",
    "\n",
    "ndarray.argmax : Return indices of the maximum values along the given axis"
   ]
  },
  {
   "cell_type": "code",
   "execution_count": 249,
   "id": "93d08398",
   "metadata": {},
   "outputs": [
    {
     "name": "stdout",
     "output_type": "stream",
     "text": [
      "[[[68 53 89 39]\n",
      "  [71 83 65 88]\n",
      "  [73 82 50 22]]\n",
      "\n",
      " [[91 64 64 40]\n",
      "  [16 59  9 22]\n",
      "  [65 99 93 31]]]\n"
     ]
    }
   ],
   "source": [
    "arr1 = np.random.randint(1,100,24).reshape(2,3,4)\n",
    "print(arr1)"
   ]
  },
  {
   "cell_type": "code",
   "execution_count": 250,
   "id": "c884e338",
   "metadata": {},
   "outputs": [
    {
     "name": "stdout",
     "output_type": "stream",
     "text": [
      "99\n"
     ]
    }
   ],
   "source": [
    "print(arr1.max())"
   ]
  },
  {
   "cell_type": "code",
   "execution_count": 251,
   "id": "42d90f53",
   "metadata": {},
   "outputs": [
    {
     "name": "stdout",
     "output_type": "stream",
     "text": [
      "21\n"
     ]
    }
   ],
   "source": [
    "print(arr1.argmax()) # argmax() automatically flattens the array and then provides the index of the maximum\n",
    "# element of the array"
   ]
  },
  {
   "cell_type": "code",
   "execution_count": 252,
   "id": "c016665a",
   "metadata": {},
   "outputs": [
    {
     "name": "stdout",
     "output_type": "stream",
     "text": [
      "[[91 64 89 40]\n",
      " [71 83 65 88]\n",
      " [73 99 93 31]]\n"
     ]
    }
   ],
   "source": [
    "print(arr1.max(0))"
   ]
  },
  {
   "cell_type": "code",
   "execution_count": 253,
   "id": "14ae44a7",
   "metadata": {},
   "outputs": [
    {
     "name": "stdout",
     "output_type": "stream",
     "text": [
      "[[73 83 89 88]\n",
      " [91 99 93 40]]\n"
     ]
    }
   ],
   "source": [
    "print(arr1.max(1))"
   ]
  },
  {
   "cell_type": "code",
   "execution_count": 254,
   "id": "2542ce8e",
   "metadata": {},
   "outputs": [
    {
     "name": "stdout",
     "output_type": "stream",
     "text": [
      "[[89 88 82]\n",
      " [91 59 99]]\n"
     ]
    }
   ],
   "source": [
    "print(arr1.max(2))"
   ]
  },
  {
   "cell_type": "markdown",
   "id": "227714e2",
   "metadata": {},
   "source": [
    "# argmax() along the axis of an array compares indexes along the axis and gives the index number of the elements in the particular axis \n",
    "\n",
    "# argmax() only flattens the array if the axis number is not provided"
   ]
  },
  {
   "cell_type": "code",
   "execution_count": 255,
   "id": "914bc5b9",
   "metadata": {},
   "outputs": [
    {
     "name": "stdout",
     "output_type": "stream",
     "text": [
      "[[1 1 0 1]\n",
      " [0 0 0 0]\n",
      " [0 1 1 1]]\n"
     ]
    }
   ],
   "source": [
    "print(arr1.argmax(0))"
   ]
  },
  {
   "cell_type": "code",
   "execution_count": 256,
   "id": "00b2b0fd",
   "metadata": {},
   "outputs": [
    {
     "name": "stdout",
     "output_type": "stream",
     "text": [
      "[[2 1 0 1]\n",
      " [0 2 2 0]]\n"
     ]
    }
   ],
   "source": [
    "print(arr1.argmax(1))"
   ]
  },
  {
   "cell_type": "code",
   "execution_count": 257,
   "id": "674e67e3",
   "metadata": {},
   "outputs": [
    {
     "name": "stdout",
     "output_type": "stream",
     "text": [
      "[[2 3 1]\n",
      " [0 1 1]]\n"
     ]
    }
   ],
   "source": [
    "print(arr1.argmax(2))"
   ]
  },
  {
   "cell_type": "markdown",
   "id": "e1eaae9e",
   "metadata": {},
   "source": [
    "-> Axis numbers are integer indexed.\n",
    "-> Elements along the axis are also integer indexed"
   ]
  },
  {
   "cell_type": "markdown",
   "id": "3e136657",
   "metadata": {},
   "source": [
    "  # mean"
   ]
  },
  {
   "cell_type": "code",
   "execution_count": 258,
   "id": "3b21b57d",
   "metadata": {},
   "outputs": [
    {
     "name": "stdout",
     "output_type": "stream",
     "text": [
      "[[[68 53 89 39]\n",
      "  [71 83 65 88]\n",
      "  [73 82 50 22]]\n",
      "\n",
      " [[91 64 64 40]\n",
      "  [16 59  9 22]\n",
      "  [65 99 93 31]]]\n"
     ]
    }
   ],
   "source": [
    "print(arr1)"
   ]
  },
  {
   "cell_type": "code",
   "execution_count": 259,
   "id": "424f5f50",
   "metadata": {},
   "outputs": [
    {
     "name": "stdout",
     "output_type": "stream",
     "text": [
      "59.833333333333336\n"
     ]
    }
   ],
   "source": [
    "print(arr1.mean())  # mean of all the elements on all axis"
   ]
  },
  {
   "cell_type": "code",
   "execution_count": 264,
   "id": "b4d9860b",
   "metadata": {},
   "outputs": [
    {
     "name": "stdout",
     "output_type": "stream",
     "text": [
      "[[79.5 58.5 76.5 39.5]\n",
      " [43.5 71.  37.  55. ]\n",
      " [69.  90.5 71.5 26.5]]\n"
     ]
    }
   ],
   "source": [
    "print(arr1.mean(0))\n"
   ]
  },
  {
   "cell_type": "code",
   "execution_count": 263,
   "id": "637f96b5",
   "metadata": {},
   "outputs": [
    {
     "name": "stdout",
     "output_type": "stream",
     "text": [
      "[[70.66666667 72.66666667 68.         49.66666667]\n",
      " [57.33333333 74.         55.33333333 31.        ]]\n"
     ]
    }
   ],
   "source": [
    "print(arr1.mean(1))"
   ]
  },
  {
   "cell_type": "code",
   "execution_count": 265,
   "id": "8d0ab375",
   "metadata": {},
   "outputs": [
    {
     "name": "stdout",
     "output_type": "stream",
     "text": [
      "[[62.25 76.75 56.75]\n",
      " [64.75 26.5  72.  ]]\n"
     ]
    }
   ],
   "source": [
    "print(arr1.mean(2))"
   ]
  },
  {
   "cell_type": "code",
   "execution_count": 266,
   "id": "26689238",
   "metadata": {},
   "outputs": [],
   "source": [
    "# ndarray.cumsum() : returns the cummulative sum of the elements along the given axis"
   ]
  },
  {
   "cell_type": "code",
   "execution_count": 267,
   "id": "d6c96955",
   "metadata": {},
   "outputs": [
    {
     "name": "stdout",
     "output_type": "stream",
     "text": [
      "[[[5 6 4 5]\n",
      "  [9 1 1 5]\n",
      "  [5 9 9 5]]\n",
      "\n",
      " [[6 7 7 7]\n",
      "  [3 8 5 8]\n",
      "  [4 1 6 5]]]\n"
     ]
    }
   ],
   "source": [
    "arr = np.random.randint(1,10,24).reshape(2,3,4)\n",
    "print(arr)"
   ]
  },
  {
   "cell_type": "code",
   "execution_count": 268,
   "id": "69deeca0",
   "metadata": {},
   "outputs": [
    {
     "name": "stdout",
     "output_type": "stream",
     "text": [
      "[  5  11  15  20  29  30  31  36  41  50  59  64  70  77  84  91  94 102\n",
      " 107 115 119 120 126 131]\n"
     ]
    }
   ],
   "source": [
    "print(arr.cumsum())\n",
    "\n",
    "# cumsum along NO axis also flattens the array(like argmax()) and gives the cummulative sum"
   ]
  },
  {
   "cell_type": "code",
   "execution_count": 269,
   "id": "77b3d3d5",
   "metadata": {},
   "outputs": [
    {
     "name": "stdout",
     "output_type": "stream",
     "text": [
      "[[[ 5  6  4  5]\n",
      "  [ 9  1  1  5]\n",
      "  [ 5  9  9  5]]\n",
      "\n",
      " [[11 13 11 12]\n",
      "  [12  9  6 13]\n",
      "  [ 9 10 15 10]]]\n"
     ]
    }
   ],
   "source": [
    "print(arr.cumsum(0))"
   ]
  },
  {
   "cell_type": "code",
   "execution_count": 270,
   "id": "99ec5b25",
   "metadata": {},
   "outputs": [
    {
     "name": "stdout",
     "output_type": "stream",
     "text": [
      "[[[ 5  6  4  5]\n",
      "  [14  7  5 10]\n",
      "  [19 16 14 15]]\n",
      "\n",
      " [[ 6  7  7  7]\n",
      "  [ 9 15 12 15]\n",
      "  [13 16 18 20]]]\n"
     ]
    }
   ],
   "source": [
    "print(arr.cumsum(1))"
   ]
  },
  {
   "cell_type": "code",
   "execution_count": 271,
   "id": "53279f96",
   "metadata": {},
   "outputs": [
    {
     "name": "stdout",
     "output_type": "stream",
     "text": [
      "[[[ 5 11 15 20]\n",
      "  [ 9 10 11 16]\n",
      "  [ 5 14 23 28]]\n",
      "\n",
      " [[ 6 13 20 27]\n",
      "  [ 3 11 16 24]\n",
      "  [ 4  5 11 16]]]\n"
     ]
    }
   ],
   "source": [
    "print(arr.cumsum(2))"
   ]
  },
  {
   "cell_type": "code",
   "execution_count": 272,
   "id": "a3481cc8",
   "metadata": {},
   "outputs": [
    {
     "name": "stdout",
     "output_type": "stream",
     "text": [
      "[[[2 2 2 1]\n",
      "  [2 2 1 1]\n",
      "  [2 2 1 1]]\n",
      "\n",
      " [[1 2 1 2]\n",
      "  [1 2 1 2]\n",
      "  [2 1 2 2]]]\n"
     ]
    }
   ],
   "source": [
    "arr2 = np.random.randint(1,3,24).reshape(2,3,4)\n",
    "print(arr2)"
   ]
  },
  {
   "cell_type": "code",
   "execution_count": 273,
   "id": "2e947b71",
   "metadata": {},
   "outputs": [
    {
     "name": "stdout",
     "output_type": "stream",
     "text": [
      "[    2     4     8     8    16    32    32    32    64   128   128   128\n",
      "   128   256   256   512   512  1024  1024  2048  4096  4096  8192 16384]\n"
     ]
    }
   ],
   "source": [
    "print(arr2.cumprod())"
   ]
  },
  {
   "cell_type": "code",
   "execution_count": 274,
   "id": "027597c0",
   "metadata": {},
   "outputs": [
    {
     "name": "stdout",
     "output_type": "stream",
     "text": [
      "[[[2 2 2 1]\n",
      "  [2 2 1 1]\n",
      "  [2 2 1 1]]\n",
      "\n",
      " [[2 4 2 2]\n",
      "  [2 4 1 2]\n",
      "  [4 2 2 2]]]\n"
     ]
    }
   ],
   "source": [
    "print(arr2.cumprod(0))"
   ]
  },
  {
   "cell_type": "code",
   "execution_count": null,
   "id": "48e7479f",
   "metadata": {},
   "outputs": [],
   "source": [
    "# variance gives the total variance of the dat\n",
    "\n",
    "# standard deviation is square root of variance and tells how far the value is from the mean."
   ]
  },
  {
   "cell_type": "code",
   "execution_count": 275,
   "id": "84fb8c65",
   "metadata": {},
   "outputs": [
    {
     "name": "stdout",
     "output_type": "stream",
     "text": [
      "[[[5 6 4 5]\n",
      "  [9 1 1 5]\n",
      "  [5 9 9 5]]\n",
      "\n",
      " [[6 7 7 7]\n",
      "  [3 8 5 8]\n",
      "  [4 1 6 5]]]\n"
     ]
    }
   ],
   "source": [
    "print(arr)"
   ]
  },
  {
   "cell_type": "code",
   "execution_count": 278,
   "id": "b604f0a2",
   "metadata": {},
   "outputs": [
    {
     "name": "stdout",
     "output_type": "stream",
     "text": [
      "5.414930555555556\n",
      "--------------------------------------------------\n",
      "2.327000334240534\n"
     ]
    }
   ],
   "source": [
    "print(arr.var()) # to calculate variance\n",
    "print('-'*50)\n",
    "print(arr.std()) # to calculate standard deviation"
   ]
  },
  {
   "cell_type": "markdown",
   "id": "03373d83",
   "metadata": {},
   "source": [
    "# arithmetic functions in numpy: \n",
    "\n",
    "add, subtract, multiply, divide, power, remainder,mod, mean, average, sum, prod, var, std"
   ]
  },
  {
   "cell_type": "code",
   "execution_count": 281,
   "id": "974f67b5",
   "metadata": {},
   "outputs": [
    {
     "name": "stdout",
     "output_type": "stream",
     "text": [
      "[1 3 5 7 9]\n"
     ]
    }
   ],
   "source": [
    "np_arr = np.arange(1,10,2)\n",
    "print(np_arr)"
   ]
  },
  {
   "cell_type": "code",
   "execution_count": 283,
   "id": "e91741c8",
   "metadata": {},
   "outputs": [
    {
     "ename": "TypeError",
     "evalue": "'float' object cannot be interpreted as an integer",
     "output_type": "error",
     "traceback": [
      "\u001b[0;31m---------------------------------------------------------------------------\u001b[0m",
      "\u001b[0;31mTypeError\u001b[0m                                 Traceback (most recent call last)",
      "Cell \u001b[0;32mIn[283], line 1\u001b[0m\n\u001b[0;32m----> 1\u001b[0m lst1 \u001b[38;5;241m=\u001b[39m \u001b[38;5;28mlist\u001b[39m(\u001b[38;5;28;43mrange\u001b[39;49m\u001b[43m(\u001b[49m\u001b[38;5;241;43m1.1\u001b[39;49m\u001b[43m,\u001b[49m\u001b[38;5;241;43m10.3\u001b[39;49m\u001b[43m,\u001b[49m\u001b[43m \u001b[49m\u001b[38;5;241;43m1\u001b[39;49m\u001b[43m)\u001b[49m)\n\u001b[1;32m      2\u001b[0m \u001b[38;5;28mprint\u001b[39m(lst1)\n",
      "\u001b[0;31mTypeError\u001b[0m: 'float' object cannot be interpreted as an integer"
     ]
    }
   ],
   "source": [
    "lst1 = list(range(1.1,10.2, 0.2))\n",
    "print(lst1)"
   ]
  },
  {
   "cell_type": "code",
   "execution_count": 287,
   "id": "039346c4",
   "metadata": {},
   "outputs": [
    {
     "name": "stdout",
     "output_type": "stream",
     "text": [
      "[ 1.2  1.4  1.6  1.8  2.   2.2  2.4  2.6  2.8  3.   3.2  3.4  3.6  3.8\n",
      "  4.   4.2  4.4  4.6  4.8  5.   5.2  5.4  5.6  5.8  6.   6.2  6.4  6.6\n",
      "  6.8  7.   7.2  7.4  7.6  7.8  8.   8.2  8.4  8.6  8.8  9.   9.2  9.4\n",
      "  9.6  9.8 10. ]\n"
     ]
    }
   ],
   "source": [
    "np_arr = np.arange(1.2,10.2,0.2)\n",
    "print(np_arr)\n",
    "# in arange we can do float elements"
   ]
  },
  {
   "cell_type": "code",
   "execution_count": 288,
   "id": "ff4d0c9d",
   "metadata": {},
   "outputs": [],
   "source": [
    "# arange allows to get range of data - it allows integers, floats and datetime64"
   ]
  },
  {
   "cell_type": "code",
   "execution_count": 289,
   "id": "2df3fb52",
   "metadata": {},
   "outputs": [
    {
     "name": "stdout",
     "output_type": "stream",
     "text": [
      "[1 1 1 1 1 1 1 1 1 1 1 1 1 1 1 1 1 1 1 1 1 1 1 1 1 1 1 1 1 1 1 1 1 1 1 1 1\n",
      " 1 1 1 1 1 1 1 1 1]\n"
     ]
    }
   ],
   "source": [
    "np_arr_dec = np.arange(1.1,10.2,0.2, dtype = int)\n",
    "print(np_arr_dec)"
   ]
  },
  {
   "cell_type": "markdown",
   "id": "02a292c1",
   "metadata": {},
   "source": [
    "1.1 + 0.2 = 1.3 -> 1+0.2 =1.2 -> 1 ..............."
   ]
  },
  {
   "cell_type": "markdown",
   "id": "805fbba2",
   "metadata": {},
   "source": [
    "-> linspace - gives equal number of data points between the specified range. (by default it makes it 50 unless specified)\n",
    "->\n",
    "It takes 7 arguments:\n",
    "1. start - mandatory\n",
    "2. stop - mandatory\n",
    "3. num - optional - number of samples required between the given range\n",
    "4. endpoint - optional - by default set to true and includes the endpoint(stop value) - if set ot false, returns equidistant numbers not including the stop value\n",
    "5. retstep - optional - default is false. if set to true, returns the samples and the step value (distance between samples)\n",
    "6. dtype - optional - by default datatype is inferred. however, for int dtype , float will be considered even if the start and stop are int\n",
    "7. axis - optional - By default 0 axis, Only useful in case start and stop are ARRAY-LIKE\n"
   ]
  },
  {
   "cell_type": "code",
   "execution_count": 290,
   "id": "35a317c4",
   "metadata": {},
   "outputs": [
    {
     "name": "stdout",
     "output_type": "stream",
     "text": [
      "[ 1.  2.  3.  4.  5.  6.  7.  8.  9. 10. 11. 12. 13. 14. 15. 16. 17. 18.\n",
      " 19. 20. 21. 22. 23. 24. 25. 26. 27. 28. 29. 30. 31. 32. 33. 34. 35. 36.\n",
      " 37. 38. 39. 40. 41. 42. 43. 44. 45. 46. 47. 48. 49. 50.]\n"
     ]
    }
   ],
   "source": [
    "arr_lin = np.linspace(1,50)\n",
    "print(arr_lin)"
   ]
  },
  {
   "cell_type": "code",
   "execution_count": 295,
   "id": "22f83447",
   "metadata": {},
   "outputs": [
    {
     "name": "stdout",
     "output_type": "stream",
     "text": [
      "[  1.           3.02040816   5.04081633   7.06122449   9.08163265\n",
      "  11.10204082  13.12244898  15.14285714  17.16326531  19.18367347\n",
      "  21.20408163  23.2244898   25.24489796  27.26530612  29.28571429\n",
      "  31.30612245  33.32653061  35.34693878  37.36734694  39.3877551\n",
      "  41.40816327  43.42857143  45.44897959  47.46938776  49.48979592\n",
      "  51.51020408  53.53061224  55.55102041  57.57142857  59.59183673\n",
      "  61.6122449   63.63265306  65.65306122  67.67346939  69.69387755\n",
      "  71.71428571  73.73469388  75.75510204  77.7755102   79.79591837\n",
      "  81.81632653  83.83673469  85.85714286  87.87755102  89.89795918\n",
      "  91.91836735  93.93877551  95.95918367  97.97959184 100.        ]\n"
     ]
    }
   ],
   "source": [
    "arr_lin = np.linspace(1,100)\n",
    "print(arr_lin)"
   ]
  },
  {
   "cell_type": "code",
   "execution_count": 296,
   "id": "351c4e68",
   "metadata": {},
   "outputs": [
    {
     "name": "stdout",
     "output_type": "stream",
     "text": [
      "[  1.   2.   3.   4.   5.   6.   7.   8.   9.  10.  11.  12.  13.  14.\n",
      "  15.  16.  17.  18.  19.  20.  21.  22.  23.  24.  25.  26.  27.  28.\n",
      "  29.  30.  31.  32.  33.  34.  35.  36.  37.  38.  39.  40.  41.  42.\n",
      "  43.  44.  45.  46.  47.  48.  49.  50.  51.  52.  53.  54.  55.  56.\n",
      "  57.  58.  59.  60.  61.  62.  63.  64.  65.  66.  67.  68.  69.  70.\n",
      "  71.  72.  73.  74.  75.  76.  77.  78.  79.  80.  81.  82.  83.  84.\n",
      "  85.  86.  87.  88.  89.  90.  91.  92.  93.  94.  95.  96.  97.  98.\n",
      "  99. 100.]\n"
     ]
    }
   ],
   "source": [
    "arr_lin = np.linspace(1,100,100)\n",
    "print(arr_lin)"
   ]
  },
  {
   "cell_type": "code",
   "execution_count": 307,
   "id": "7efc2002",
   "metadata": {},
   "outputs": [
    {
     "name": "stdout",
     "output_type": "stream",
     "text": [
      "(array([ 1,  5,  9, 13, 18]), 4.25)\n"
     ]
    }
   ],
   "source": [
    "lin = np.linspace(1,18,5,retstep = True, dtype = int) # specified dtype\n",
    "print(lin)"
   ]
  },
  {
   "cell_type": "code",
   "execution_count": 302,
   "id": "efec39d0",
   "metadata": {},
   "outputs": [
    {
     "name": "stdout",
     "output_type": "stream",
     "text": [
      "[[1.         1.22222222 1.44444444 1.66666667 1.88888889 2.11111111\n",
      "  2.33333333 2.55555556 2.77777778 3.        ]\n",
      " [2.         2.22222222 2.44444444 2.66666667 2.88888889 3.11111111\n",
      "  3.33333333 3.55555556 3.77777778 4.        ]]\n"
     ]
    }
   ],
   "source": [
    "lin_arr = np.linspace((1,2),(3,4), 10, axis = 1) # array like start and stop values\n",
    "print(lin_arr)"
   ]
  },
  {
   "cell_type": "code",
   "execution_count": 308,
   "id": "e2cf2467",
   "metadata": {},
   "outputs": [
    {
     "name": "stdout",
     "output_type": "stream",
     "text": [
      "[[ 1.          2.          5.        ]\n",
      " [ 1.22222222  2.22222222  5.55555556]\n",
      " [ 1.44444444  2.44444444  6.11111111]\n",
      " [ 1.66666667  2.66666667  6.66666667]\n",
      " [ 1.88888889  2.88888889  7.22222222]\n",
      " [ 2.11111111  3.11111111  7.77777778]\n",
      " [ 2.33333333  3.33333333  8.33333333]\n",
      " [ 2.55555556  3.55555556  8.88888889]\n",
      " [ 2.77777778  3.77777778  9.44444444]\n",
      " [ 3.          4.         10.        ]]\n"
     ]
    }
   ],
   "source": [
    "lin_arr = np.linspace((1,2,5),(3,4,10), 10) \n",
    "# with equidistant samples added along axis 1\n",
    "print(lin_arr)"
   ]
  },
  {
   "cell_type": "code",
   "execution_count": 309,
   "id": "08e7687e",
   "metadata": {},
   "outputs": [
    {
     "name": "stdout",
     "output_type": "stream",
     "text": [
      "[[ 1.          1.22222222  1.44444444  1.66666667  1.88888889  2.11111111\n",
      "   2.33333333  2.55555556  2.77777778  3.        ]\n",
      " [ 2.          2.22222222  2.44444444  2.66666667  2.88888889  3.11111111\n",
      "   3.33333333  3.55555556  3.77777778  4.        ]\n",
      " [ 5.          5.55555556  6.11111111  6.66666667  7.22222222  7.77777778\n",
      "   8.33333333  8.88888889  9.44444444 10.        ]]\n"
     ]
    }
   ],
   "source": [
    "lin_arr = np.linspace((1,2,5),(3,4,10), 10, axis = 1) \n",
    "print(lin_arr)"
   ]
  },
  {
   "cell_type": "markdown",
   "id": "8b33bd80",
   "metadata": {},
   "source": [
    "# Random module"
   ]
  },
  {
   "cell_type": "code",
   "execution_count": 310,
   "id": "6ddc4ebd",
   "metadata": {},
   "outputs": [
    {
     "name": "stdout",
     "output_type": "stream",
     "text": [
      "4\n"
     ]
    }
   ],
   "source": [
    "rand = np.random.randint(1,10)\n",
    "print(rand)"
   ]
  },
  {
   "cell_type": "code",
   "execution_count": 312,
   "id": "393bb656",
   "metadata": {},
   "outputs": [
    {
     "name": "stdout",
     "output_type": "stream",
     "text": [
      "[25 42 27 96 90  7 50 75 35 56 25 96 20 11 44 73 95 27 39 16 92 53 60 20\n",
      " 88]\n"
     ]
    }
   ],
   "source": [
    "rand = np.random.randint(1,100,25) # any random 25 numbers between 1 and 100\n",
    "print(rand)"
   ]
  },
  {
   "cell_type": "code",
   "execution_count": 313,
   "id": "c04c0618",
   "metadata": {},
   "outputs": [
    {
     "name": "stdout",
     "output_type": "stream",
     "text": [
      "[[[ 8  7 71 55]\n",
      "  [19 45 72 15]\n",
      "  [61 78 53 28]]\n",
      "\n",
      " [[70 99 49  9]\n",
      "  [44 68 78 54]\n",
      "  [47 52 90 57]]]\n"
     ]
    }
   ],
   "source": [
    "rand = np.random.randint(1,100,(2,3,4))\n",
    "print(rand)"
   ]
  },
  {
   "cell_type": "code",
   "execution_count": 319,
   "id": "5e21a55e",
   "metadata": {},
   "outputs": [
    {
     "name": "stdout",
     "output_type": "stream",
     "text": [
      "[52 93 15 72 61 21 83 87 75 75]\n"
     ]
    }
   ],
   "source": [
    "np.random.seed(42)  # setting the seed \n",
    "\n",
    "# restarting the kernal also gives the same output as before - does not change\n",
    "# it will choose random numbers but the result will be smae always even if we execute \n",
    "# multiple times\n",
    "\n",
    "result = np.random.randint(1,100,10)\n",
    "print(result)"
   ]
  },
  {
   "cell_type": "code",
   "execution_count": 322,
   "id": "ced4cdc5",
   "metadata": {},
   "outputs": [
    {
     "name": "stdout",
     "output_type": "stream",
     "text": [
      "[ 9 25 68 88 80 49 11 95 53 99]\n"
     ]
    }
   ],
   "source": [
    "np.random.seed(100) # different for other numbers provided\n",
    "# multiple times\n",
    "\n",
    "result = np.random.randint(1,100,10)\n",
    "print(result)"
   ]
  },
  {
   "cell_type": "code",
   "execution_count": null,
   "id": "ce4302b8",
   "metadata": {},
   "outputs": [],
   "source": [
    "# most common/ prominent seed values used - 41,42,101"
   ]
  },
  {
   "cell_type": "code",
   "execution_count": 324,
   "id": "ea566130",
   "metadata": {},
   "outputs": [
    {
     "name": "stdout",
     "output_type": "stream",
     "text": [
      "[0.87014264 0.06368104 0.62431189]\n"
     ]
    }
   ],
   "source": [
    "result = np.random.rand(3)\n",
    "print(result)\n",
    "# gives random float values between 0 and 1 only"
   ]
  },
  {
   "cell_type": "code",
   "execution_count": 326,
   "id": "e351815c",
   "metadata": {},
   "outputs": [
    {
     "name": "stdout",
     "output_type": "stream",
     "text": [
      "[[[0.17582131 0.11830284 0.86294567 0.07486688]\n",
      "  [0.82509486 0.83613181 0.07539491 0.01140079]\n",
      "  [0.04842057 0.35712271 0.66569338 0.01138961]]\n",
      "\n",
      " [[0.10791777 0.9010131  0.79487876 0.81146098]\n",
      "  [0.64027806 0.62477951 0.14550751 0.5702159 ]\n",
      "  [0.0651125  0.31341257 0.21706577 0.52695039]]]\n"
     ]
    }
   ],
   "source": [
    "res = np.random.rand(2,3,4) # we can give any dimensions/ shapes \n",
    "print(res)"
   ]
  },
  {
   "cell_type": "code",
   "execution_count": 327,
   "id": "a29e4b15",
   "metadata": {},
   "outputs": [
    {
     "name": "stdout",
     "output_type": "stream",
     "text": [
      "[4.84397544 9.84367384 2.26406338 7.73570444 8.09956354 7.57356954\n",
      " 8.61056505 6.00571341 1.5117644  8.98052109 3.82975255 6.04352681\n",
      " 3.28612956 9.41465894 1.30820449 7.1789046  4.95041447 9.79948858\n",
      " 5.29645738 3.15057369]\n"
     ]
    }
   ],
   "source": [
    "res = np.random.uniform(1,10,20)\n",
    "print(res) # gives random float values in specified range"
   ]
  },
  {
   "cell_type": "code",
   "execution_count": 329,
   "id": "3c8224d4",
   "metadata": {},
   "outputs": [
    {
     "name": "stdout",
     "output_type": "stream",
     "text": [
      "[[[6.37586855 8.61142578 2.27435478 7.60294323]\n",
      "  [4.85447746 1.65157614 1.94341177 5.28512413]\n",
      "  [9.99854164 2.31591479 6.29821967 7.09499734]]\n",
      "\n",
      " [[5.3302153  8.36320225 7.62878059 7.76798775]\n",
      "  [5.82195758 7.8822815  9.10843283 6.37112491]\n",
      "  [7.41960769 4.70534837 6.64282052 5.66784587]]]\n"
     ]
    }
   ],
   "source": [
    "uni = np.random.uniform(1.5,10.2,(2,3,4))\n",
    "print(uni)"
   ]
  },
  {
   "cell_type": "markdown",
   "id": "9d8fcab3",
   "metadata": {},
   "source": [
    "#randn function - returns float value in given shape array from a standard normal distribution\n",
    "\n",
    "- roughly - 68% of the values will be between -1 and 1\n",
    "- roughly - 95% of the values will be between -2 to 2 , -2 to -1 and 1 to 2 - 27%\n",
    "- roughly - 99.2% of the values will be between -3 to 3, -3 to -2 and 2 to 3 - 4.4%\n",
    "- roughly - 99.7% of the values will be between -4 to 4\n",
    "\n",
    "--> if no shape is provided, then returns a single float value\n"
   ]
  },
  {
   "cell_type": "code",
   "execution_count": 332,
   "id": "6ebbb533",
   "metadata": {},
   "outputs": [
    {
     "name": "stdout",
     "output_type": "stream",
     "text": [
      "[-1.19449029  1.60006235  0.03034095  0.79741515 -1.69141624  0.18864899\n",
      " -0.53753902  1.18086752 -0.61283947  0.06771082 -0.80731712 -0.16578194\n",
      " -0.90964037 -0.79326307 -1.38071781 -1.17836855  0.76838023 -0.60754502\n",
      " -0.7473156  -0.03190527 -0.46610165  1.53819322  0.3884666  -0.58598598\n",
      "  0.73764019 -0.12301387 -0.90326898  1.07150781  2.12449687  0.5003683\n",
      "  0.7003502   0.68084914  0.99163248  0.50305299 -2.59375089  0.24520242\n",
      "  0.74054808 -0.03876821 -0.7220084  -0.40778889  0.2888535  -0.76055434\n",
      "  1.49598592  1.10385714 -0.27414307  0.47094189  1.23170938  0.77889302\n",
      "  0.11176924 -2.15208448 -0.08576961 -1.6489635   0.28079931  1.34850343\n",
      " -2.02941188 -0.57744644 -1.25801562  0.53962509 -0.12265801 -1.09427418\n",
      " -1.31741355 -0.42618677  0.01417164  0.28615794 -0.34558302 -0.57606667\n",
      " -0.43424511 -1.52483797 -1.08618346  0.68753616  1.70494853  0.47312829\n",
      " -0.2924172  -0.71736812 -3.45479771  0.33157503  0.05880897  0.5867991\n",
      " -0.81516944  1.69668659  0.34530229  0.56905008  1.62353231 -1.8522986\n",
      " -0.34824451 -0.02005656 -0.50553801 -1.60103158 -0.22301301  0.38909047\n",
      "  0.32996934 -0.54750513 -1.17746455 -1.89986665 -0.81743002 -0.92756884\n",
      " -0.54835386 -1.46463806  2.03517346 -0.88470348]\n"
     ]
    }
   ],
   "source": [
    "result = np.random.randn(100)\n",
    "print(result)\n",
    "# most numbers are between -1 and +1\n",
    "# few number are between -2 and +2"
   ]
  },
  {
   "cell_type": "code",
   "execution_count": 334,
   "id": "a932c382",
   "metadata": {},
   "outputs": [
    {
     "name": "stdout",
     "output_type": "stream",
     "text": [
      "[[[ 1.14275202  0.61200288 -0.12353239  0.89841359  0.84066248\n",
      "   -0.8588119   1.21470866  0.89352328 -1.1052896   0.51126955]\n",
      "  [-0.01488769 -0.10527878 -0.93249484 -0.04303337  0.8099778\n",
      "   -1.97966066  0.1882086  -0.57130504 -0.34097129  0.11774248]\n",
      "  [-1.05473169  1.27863458  0.04078279 -1.30540397 -0.08391699\n",
      "   -0.33403439  0.13228139 -0.82637032  0.94484211  0.72613475]\n",
      "  [ 1.48007469  0.10665599 -0.93742322 -0.72903822  0.93216733\n",
      "   -1.46759396  0.50476332  0.09201342  0.49002191  1.73493511]\n",
      "  [ 1.23690069 -0.76966696  0.49513669 -0.33837865 -0.16876304\n",
      "    1.1681938   0.98308066  2.84026327  0.22242931  0.96385285]]\n",
      "\n",
      " [[-1.12549899 -0.76279707  1.62337759 -0.92625324  2.10248889\n",
      "    0.78485237  0.48482435  0.97837034 -0.42146076  0.08870573]\n",
      "  [-0.56025761  0.35518798 -0.65209669 -0.07583802  0.28382974\n",
      "    0.72234857 -0.05688487  0.95883093  0.13304343  0.55577644]\n",
      "  [ 0.34077302  0.45734124 -1.12220579  0.09336404  2.23987823\n",
      "   -0.5628291  -0.08246473  1.19941757 -1.65343521  0.66742011]\n",
      "  [ 0.66909796  0.83214593  0.05665484 -0.3383947  -0.65127711\n",
      "   -1.48734842  0.15192409 -0.91495439  1.30313201  1.7894845 ]\n",
      "  [ 1.0144705   0.3128959   1.50879199 -0.33550489 -1.28224643\n",
      "    2.0924951   0.06656394  0.93297524  0.91451098 -0.57474648]]]\n"
     ]
    }
   ],
   "source": [
    "result = np.random.randn(2,5,10)\n",
    "print(result)"
   ]
  },
  {
   "cell_type": "code",
   "execution_count": 335,
   "id": "c3cf079a",
   "metadata": {},
   "outputs": [
    {
     "name": "stdout",
     "output_type": "stream",
     "text": [
      "[10 11 12 13 14 15 16 17 18 19 20 21 22 23 24 25 26 27 28 29 30 31 32 33\n",
      " 34 35 36 37 38 39 40 41 42 43 44 45 46 47 48 49]\n"
     ]
    }
   ],
   "source": [
    "arr1 = np.arange(10,50)\n",
    "print(arr1)"
   ]
  },
  {
   "cell_type": "code",
   "execution_count": 336,
   "id": "6a7d2773",
   "metadata": {},
   "outputs": [
    {
     "name": "stdout",
     "output_type": "stream",
     "text": [
      "[21 39 43 11 38 36 26 22 43 14]\n"
     ]
    }
   ],
   "source": [
    "# choice =  choose a random number from an array or integer range\n",
    "\n",
    "# takes only an array or an integer value(chooses from 0 to the integer value number) as input from which \n",
    "# to choose\n",
    "\n",
    "choice = np.random.choice(arr1, 10)\n",
    "print(choice)"
   ]
  },
  {
   "cell_type": "code",
   "execution_count": 339,
   "id": "e6eb5baa",
   "metadata": {},
   "outputs": [
    {
     "name": "stdout",
     "output_type": "stream",
     "text": [
      "[29 34 41 17 45 37 20 44 21 30 39 23 33 43 35 47 10 32 49 42]\n"
     ]
    }
   ],
   "source": [
    "choice = np.random.choice(arr1, 20, replace = False) #no repetition\n",
    "\n",
    "print(choice)\n",
    "# only till the length of elements to be choosen are within the specified range"
   ]
  },
  {
   "cell_type": "code",
   "execution_count": 346,
   "id": "6395b15d",
   "metadata": {},
   "outputs": [
    {
     "name": "stdout",
     "output_type": "stream",
     "text": [
      "['raghu' 'raghu' 'rohan' 'rakesh']\n",
      "['mala' 'sachin' 'rohan' 'Jatin']\n"
     ]
    }
   ],
   "source": [
    "# array need not be just integer, an example of string\n",
    "names = ['yashoda', 'rohan', 'rakesh', 'raghu','mala','Jatin', 'maithali','sachin']\n",
    "\n",
    "choice = np.random.choice(names, 4)\n",
    "print(choice)\n",
    "choice1 = np.random.choice(names, 4, replace = False)\n",
    "print(choice1)"
   ]
  },
  {
   "cell_type": "code",
   "execution_count": 347,
   "id": "3180a6a0",
   "metadata": {},
   "outputs": [
    {
     "name": "stdout",
     "output_type": "stream",
     "text": [
      "['rakesh' 'yashoda' 'Jatin' 'yashoda' 'yashoda' 'yashoda' 'rakesh' 'Jatin'\n",
      " 'yashoda' 'rakesh']\n"
     ]
    }
   ],
   "source": [
    "# we can give probability for associated to the elements of the array, based on topmost probabilites is how the\n",
    "# random output is generated\n",
    "\n",
    "# you might still get the low probability ones at some execution \n",
    "# probabilites should sum up to 1\n",
    "# and probability should be given to every element and positional with \"p\" keyword\n",
    "\n",
    "choosename = np.random.choice(names, 10, p = [0.40, 0.2, 0.25, 0.10, 0.01, 0.02, 0.01, 0.01])\n",
    "print(choosename)"
   ]
  },
  {
   "cell_type": "code",
   "execution_count": 349,
   "id": "82cb6689",
   "metadata": {},
   "outputs": [
    {
     "name": "stdout",
     "output_type": "stream",
     "text": [
      "[7 6 9 2 4 5 8 3 1 0]\n"
     ]
    }
   ],
   "source": [
    "# permutation is different /various ways of arranging elements\n",
    "\n",
    "perm = np.random.permutation(10) # here is re-arrangement of given elements \n",
    "print(perm)"
   ]
  },
  {
   "cell_type": "code",
   "execution_count": 351,
   "id": "bcfa1ae2",
   "metadata": {},
   "outputs": [
    {
     "name": "stdout",
     "output_type": "stream",
     "text": [
      "[16 19  8 11 15 18]\n"
     ]
    }
   ],
   "source": [
    "arr1 = np.random.randint(1,20,6)\n",
    "print(arr1)"
   ]
  },
  {
   "cell_type": "code",
   "execution_count": 353,
   "id": "2bb8b750",
   "metadata": {},
   "outputs": [
    {
     "name": "stdout",
     "output_type": "stream",
     "text": [
      "[15  8 19 18 11 16]\n"
     ]
    }
   ],
   "source": [
    "perm1 = np.random.permutation(arr1)\n",
    "print(perm1)"
   ]
  },
  {
   "cell_type": "code",
   "execution_count": 354,
   "id": "f788ede4",
   "metadata": {},
   "outputs": [
    {
     "name": "stdout",
     "output_type": "stream",
     "text": [
      "[20 21 22 23 24 25 26 27 28 29 30 31 32 33 34 35 36 37 38 39]\n"
     ]
    }
   ],
   "source": [
    "np_arr = np.arange(20,40)\n",
    "print(np_arr)"
   ]
  },
  {
   "cell_type": "code",
   "execution_count": 357,
   "id": "3aab6559",
   "metadata": {},
   "outputs": [
    {
     "name": "stdout",
     "output_type": "stream",
     "text": [
      "[25 36 27 21 29 22 37 31 24 33 20 30 32 38 35 23 28 34 26 39]\n"
     ]
    }
   ],
   "source": [
    "perm = np.random.permutation(np_arr)\n",
    "print(perm)"
   ]
  },
  {
   "cell_type": "code",
   "execution_count": 358,
   "id": "9cfeb6ca",
   "metadata": {},
   "outputs": [
    {
     "name": "stdout",
     "output_type": "stream",
     "text": [
      "[[[ 0  1]\n",
      "  [ 2  3]\n",
      "  [ 4  5]]\n",
      "\n",
      " [[ 6  7]\n",
      "  [ 8  9]\n",
      "  [10 11]]\n",
      "\n",
      " [[12 13]\n",
      "  [14 15]\n",
      "  [16 17]]\n",
      "\n",
      " [[18 19]\n",
      "  [20 21]\n",
      "  [22 23]]]\n"
     ]
    }
   ],
   "source": [
    "arr = np.arange(24).reshape(4,3,2)\n",
    "print(arr)"
   ]
  },
  {
   "cell_type": "code",
   "execution_count": 359,
   "id": "bdd4925d",
   "metadata": {},
   "outputs": [
    {
     "name": "stdout",
     "output_type": "stream",
     "text": [
      "[[[18 19]\n",
      "  [20 21]\n",
      "  [22 23]]\n",
      "\n",
      " [[ 6  7]\n",
      "  [ 8  9]\n",
      "  [10 11]]\n",
      "\n",
      " [[12 13]\n",
      "  [14 15]\n",
      "  [16 17]]\n",
      "\n",
      " [[ 0  1]\n",
      "  [ 2  3]\n",
      "  [ 4  5]]]\n"
     ]
    }
   ],
   "source": [
    "perm_arr = np.random.permutation(arr)\n",
    "print(perm_arr)\n",
    "# while using on 0 axis, it always permutates on 0 axis and not on any other axis as per internal function code \n",
    "# written - if still needed, we need to write differnt programming logic"
   ]
  },
  {
   "cell_type": "code",
   "execution_count": 360,
   "id": "9e219a5a",
   "metadata": {},
   "outputs": [
    {
     "name": "stdout",
     "output_type": "stream",
     "text": [
      "[[[ 0  1  2  3]\n",
      "  [ 4  5  6  7]\n",
      "  [ 8  9 10 11]]\n",
      "\n",
      " [[12 13 14 15]\n",
      "  [16 17 18 19]\n",
      "  [20 21 22 23]]]\n"
     ]
    }
   ],
   "source": [
    "arr_perm = np.arange(24).reshape(2,3,4)\n",
    "print(arr_perm)"
   ]
  },
  {
   "cell_type": "code",
   "execution_count": 362,
   "id": "a14e1b65",
   "metadata": {},
   "outputs": [
    {
     "name": "stdout",
     "output_type": "stream",
     "text": [
      "[[[13  8  2 16]\n",
      "  [10  5  6 18]\n",
      "  [22  1 19 12]]\n",
      "\n",
      " [[21 17  7  0]\n",
      "  [11  3 15  4]\n",
      "  [14  9 20 23]]]\n"
     ]
    }
   ],
   "source": [
    "# to anyway permutate a multi- dimensional array, we can flatten it and make a random permutation using reshape \n",
    "# with permutation function\n",
    "perm_arr1 = arr_perm.flatten()\n",
    "perm_arr2 = np.random.permutation(perm_arr1).reshape(2,3,4)\n",
    "print(perm_arr2)"
   ]
  },
  {
   "cell_type": "code",
   "execution_count": null,
   "id": "6bcc8eee",
   "metadata": {},
   "outputs": [],
   "source": [
    "# any - returns true if any of the elements in the array are true\n",
    "# all - returns true if all the elements in an array are true"
   ]
  },
  {
   "cell_type": "code",
   "execution_count": 363,
   "id": "ed5eff13",
   "metadata": {},
   "outputs": [
    {
     "name": "stdout",
     "output_type": "stream",
     "text": [
      "[0 1 2 3 4 5 6 7 8 9]\n"
     ]
    }
   ],
   "source": [
    "arr  = np.arange(10)\n",
    "print(arr)"
   ]
  },
  {
   "cell_type": "code",
   "execution_count": 364,
   "id": "2cc4b1a0",
   "metadata": {},
   "outputs": [
    {
     "name": "stdout",
     "output_type": "stream",
     "text": [
      "True\n"
     ]
    }
   ],
   "source": [
    "print(np.any(arr))"
   ]
  },
  {
   "cell_type": "code",
   "execution_count": 365,
   "id": "eeafdcc9",
   "metadata": {},
   "outputs": [
    {
     "name": "stdout",
     "output_type": "stream",
     "text": [
      "False\n"
     ]
    }
   ],
   "source": [
    "print(np.all(arr))"
   ]
  },
  {
   "cell_type": "code",
   "execution_count": 367,
   "id": "b04c4d0c",
   "metadata": {},
   "outputs": [
    {
     "name": "stdout",
     "output_type": "stream",
     "text": [
      "[ 0  1  2  3  4  5  6  7  8  9 10]\n",
      "[11 12 13 14 15 16 17 18 19 20]\n"
     ]
    }
   ],
   "source": [
    "arr1 = np.arange(11)\n",
    "arr2 = np.arange(11,21)\n",
    "print(arr1)\n",
    "print(arr2)"
   ]
  },
  {
   "cell_type": "code",
   "execution_count": 368,
   "id": "733a24f4",
   "metadata": {},
   "outputs": [
    {
     "name": "stdout",
     "output_type": "stream",
     "text": [
      "[ 0  1  2  3  4  5  6  7  8  9 10 11 12 13 14 15 16 17 18 19 20]\n"
     ]
    }
   ],
   "source": [
    "arr_append = np.append(arr1,arr2)\n",
    "print(arr_append)"
   ]
  },
  {
   "cell_type": "code",
   "execution_count": 369,
   "id": "04117116",
   "metadata": {},
   "outputs": [],
   "source": [
    "# in lists, there is no return from the append function.\n",
    "# In numpy arrays, there is a return from append"
   ]
  },
  {
   "cell_type": "code",
   "execution_count": 380,
   "id": "e7059eb4",
   "metadata": {},
   "outputs": [
    {
     "name": "stdout",
     "output_type": "stream",
     "text": [
      "[[ 1  2  3  4  5]\n",
      " [ 6  7  8  9 10]]\n"
     ]
    }
   ],
   "source": [
    "arr1 = np.arange(1,11).reshape(2,5)\n",
    "arr2 = np.arange(11,21).reshape(2,5)\n",
    "arr3 = np.arange(101,251,10).reshape(3,5)\n",
    "print(arr1)"
   ]
  },
  {
   "cell_type": "code",
   "execution_count": 381,
   "id": "234f5901",
   "metadata": {},
   "outputs": [
    {
     "name": "stdout",
     "output_type": "stream",
     "text": [
      "[[11 12 13 14 15]\n",
      " [16 17 18 19 20]]\n"
     ]
    }
   ],
   "source": [
    "print(arr2)"
   ]
  },
  {
   "cell_type": "code",
   "execution_count": 382,
   "id": "2d426531",
   "metadata": {},
   "outputs": [
    {
     "name": "stdout",
     "output_type": "stream",
     "text": [
      "[[101 111 121 131 141]\n",
      " [151 161 171 181 191]\n",
      " [201 211 221 231 241]]\n"
     ]
    }
   ],
   "source": [
    "print(arr3)"
   ]
  },
  {
   "cell_type": "code",
   "execution_count": 383,
   "id": "96313b7a",
   "metadata": {},
   "outputs": [
    {
     "name": "stdout",
     "output_type": "stream",
     "text": [
      "[[ 1  2  3  4  5]\n",
      " [ 6  7  8  9 10]\n",
      " [11 12 13 14 15]\n",
      " [16 17 18 19 20]]\n"
     ]
    }
   ],
   "source": [
    "arr_1n2 = np.append(arr1,arr2, axis = 0)\n",
    "print(arr_1n2)"
   ]
  },
  {
   "cell_type": "code",
   "execution_count": 387,
   "id": "448b24e2",
   "metadata": {},
   "outputs": [
    {
     "name": "stdout",
     "output_type": "stream",
     "text": [
      "[[  1   2   3   4   5]\n",
      " [  6   7   8   9  10]\n",
      " [101 111 121 131 141]\n",
      " [151 161 171 181 191]\n",
      " [201 211 221 231 241]]\n"
     ]
    }
   ],
   "source": [
    "arr_1n3 = np.append(arr1,arr3, axis = 0)\n",
    "print(arr_1n3)\n",
    "# though arr3 has 3,5 instead of 2,5, since we are appending on 0 axis, it works"
   ]
  },
  {
   "cell_type": "code",
   "execution_count": 388,
   "id": "56cde722",
   "metadata": {},
   "outputs": [
    {
     "name": "stdout",
     "output_type": "stream",
     "text": [
      "[[ 1  2  3  4  5 11 12 13 14 15]\n",
      " [ 6  7  8  9 10 16 17 18 19 20]]\n"
     ]
    }
   ],
   "source": [
    "arr_1n2 = np.append(arr1,arr2, axis = 1)\n",
    "print(arr_1n2)"
   ]
  },
  {
   "cell_type": "markdown",
   "id": "00080f0e",
   "metadata": {},
   "source": [
    "arr_1n3 = np.append(arr1,arr3, axis = 1)\n",
    "print(arr_1n3)\n",
    "\n",
    "--> it does not match the axis 1"
   ]
  },
  {
   "cell_type": "code",
   "execution_count": 390,
   "id": "32be4611",
   "metadata": {},
   "outputs": [],
   "source": [
    "# vstack stacks the arrays vertically, like appending on axis 0"
   ]
  },
  {
   "cell_type": "code",
   "execution_count": 391,
   "id": "91cfff8c",
   "metadata": {},
   "outputs": [
    {
     "name": "stdout",
     "output_type": "stream",
     "text": [
      "[[ 1  2  3  4  5]\n",
      " [ 6  7  8  9 10]\n",
      " [11 12 13 14 15]\n",
      " [16 17 18 19 20]]\n"
     ]
    }
   ],
   "source": [
    "arrv = np.vstack((arr1,arr2))\n",
    "print(arrv)"
   ]
  },
  {
   "cell_type": "code",
   "execution_count": 392,
   "id": "25928d85",
   "metadata": {},
   "outputs": [
    {
     "name": "stdout",
     "output_type": "stream",
     "text": [
      "[[  1   2   3   4   5]\n",
      " [  6   7   8   9  10]\n",
      " [101 111 121 131 141]\n",
      " [151 161 171 181 191]\n",
      " [201 211 221 231 241]]\n"
     ]
    }
   ],
   "source": [
    "arrv = np.vstack((arr1,arr3))\n",
    "print(arrv)"
   ]
  },
  {
   "cell_type": "code",
   "execution_count": 393,
   "id": "1207d603",
   "metadata": {},
   "outputs": [
    {
     "name": "stdout",
     "output_type": "stream",
     "text": [
      "[1 2 3 4 5]\n",
      "[11 12 13 14 15]\n"
     ]
    }
   ],
   "source": [
    "arr1v = np.arange(1,6)\n",
    "arr2v = np.arange(11,16)\n",
    "print(arr1v)\n",
    "print(arr2v)"
   ]
  },
  {
   "cell_type": "code",
   "execution_count": 394,
   "id": "ece81d65",
   "metadata": {},
   "outputs": [
    {
     "name": "stdout",
     "output_type": "stream",
     "text": [
      "[[[ 1  2  3]\n",
      "  [ 4  5  6]]\n",
      "\n",
      " [[ 7  8  9]\n",
      "  [10 11 12]]]\n"
     ]
    }
   ],
   "source": [
    "arr1v = np.arange(1,13).reshape(2,2,3)\n",
    "arr2v = np.arange(11,23).reshape(2,2,3)\n",
    "print(arr1v)"
   ]
  },
  {
   "cell_type": "code",
   "execution_count": 395,
   "id": "996f8fbd",
   "metadata": {},
   "outputs": [
    {
     "name": "stdout",
     "output_type": "stream",
     "text": [
      "[[[11 12 13]\n",
      "  [14 15 16]]\n",
      "\n",
      " [[17 18 19]\n",
      "  [20 21 22]]]\n"
     ]
    }
   ],
   "source": [
    "print(arr2v)"
   ]
  },
  {
   "cell_type": "code",
   "execution_count": 396,
   "id": "b9989c8d",
   "metadata": {},
   "outputs": [
    {
     "name": "stdout",
     "output_type": "stream",
     "text": [
      "[[[ 1  2  3]\n",
      "  [ 4  5  6]]\n",
      "\n",
      " [[ 7  8  9]\n",
      "  [10 11 12]]\n",
      "\n",
      " [[11 12 13]\n",
      "  [14 15 16]]\n",
      "\n",
      " [[17 18 19]\n",
      "  [20 21 22]]]\n"
     ]
    }
   ],
   "source": [
    "arrvx = np.vstack((arr1v,arr2v))\n",
    "print(arrvx)"
   ]
  },
  {
   "cell_type": "code",
   "execution_count": 398,
   "id": "71e82e8c",
   "metadata": {},
   "outputs": [
    {
     "name": "stdout",
     "output_type": "stream",
     "text": [
      "[[0 1 2]\n",
      " [3 4 5]]\n",
      "[[10 11 12]\n",
      " [13 14 15]]\n"
     ]
    }
   ],
   "source": [
    "arr1h = np.arange(6).reshape(2,3)\n",
    "arr2h = np.arange(10,16).reshape(2,3)\n",
    "print(arr1h)\n",
    "print(arr2h)"
   ]
  },
  {
   "cell_type": "code",
   "execution_count": 399,
   "id": "8fb9e3be",
   "metadata": {},
   "outputs": [
    {
     "name": "stdout",
     "output_type": "stream",
     "text": [
      "[[ 0  1  2 10 11 12]\n",
      " [ 3  4  5 13 14 15]]\n"
     ]
    }
   ],
   "source": [
    "arrhx = np.hstack((arr1h,arr2h))\n",
    "print(arrhx)"
   ]
  },
  {
   "cell_type": "code",
   "execution_count": 402,
   "id": "2a07a993",
   "metadata": {},
   "outputs": [
    {
     "name": "stdout",
     "output_type": "stream",
     "text": [
      "[[[ 0  1  2  3]\n",
      "  [ 4  5  6  7]\n",
      "  [ 8  9 10 11]]\n",
      "\n",
      " [[12 13 14 15]\n",
      "  [16 17 18 19]\n",
      "  [20 21 22 23]]]\n",
      "[[[  0  10  20  30]\n",
      "  [ 40  50  60  70]\n",
      "  [ 80  90 100 110]]\n",
      "\n",
      " [[120 130 140 150]\n",
      "  [160 170 180 190]\n",
      "  [200 210 220 230]]]\n"
     ]
    }
   ],
   "source": [
    "arr1h = np.arange(24).reshape(2,3,4)\n",
    "arr2h = np.arange(0,240,10).reshape(2,3,4)\n",
    "print(arr1h)\n",
    "print(arr2h)"
   ]
  },
  {
   "cell_type": "code",
   "execution_count": 404,
   "id": "a3b848c8",
   "metadata": {},
   "outputs": [
    {
     "name": "stdout",
     "output_type": "stream",
     "text": [
      "[[[  0   1   2   3]\n",
      "  [  4   5   6   7]\n",
      "  [  8   9  10  11]\n",
      "  [  0  10  20  30]\n",
      "  [ 40  50  60  70]\n",
      "  [ 80  90 100 110]]\n",
      "\n",
      " [[ 12  13  14  15]\n",
      "  [ 16  17  18  19]\n",
      "  [ 20  21  22  23]\n",
      "  [120 130 140 150]\n",
      "  [160 170 180 190]\n",
      "  [200 210 220 230]]]\n"
     ]
    }
   ],
   "source": [
    "arrhx = np.hstack((arr1h,arr2h))\n",
    "print(arrhx)\n",
    "# hstack is always working on axis 1, irrespective if there is an axis 2"
   ]
  },
  {
   "cell_type": "code",
   "execution_count": 409,
   "id": "037ec75f",
   "metadata": {},
   "outputs": [
    {
     "name": "stdout",
     "output_type": "stream",
     "text": [
      "[[[2 7 8 9 5]\n",
      "  [9 6 1 6 9]]\n",
      "\n",
      " [[2 4 9 4 4]\n",
      "  [3 9 4 8 1]]]\n"
     ]
    }
   ],
   "source": [
    "#sort :\n",
    "# sort will by default sort on innermost/last axis (axis 2 here)\n",
    "\n",
    "np.random.seed(101)\n",
    "\n",
    "arr3 = np.random.randint(1,10,20).reshape(2,2,5)\n",
    "print(arr3)\n"
   ]
  },
  {
   "cell_type": "code",
   "execution_count": 410,
   "id": "281fee22",
   "metadata": {},
   "outputs": [
    {
     "name": "stdout",
     "output_type": "stream",
     "text": [
      "[[[2 5 7 8 9]\n",
      "  [1 6 6 9 9]]\n",
      "\n",
      " [[2 4 4 4 9]\n",
      "  [1 3 4 8 9]]]\n"
     ]
    }
   ],
   "source": [
    "arr_sort = np.sort(arr3)\n",
    "print(arr_sort)"
   ]
  },
  {
   "cell_type": "code",
   "execution_count": 411,
   "id": "64146bed",
   "metadata": {},
   "outputs": [
    {
     "name": "stdout",
     "output_type": "stream",
     "text": [
      "[[[2 4 8 4 4]\n",
      "  [3 6 1 6 1]]\n",
      "\n",
      " [[2 7 9 9 5]\n",
      "  [9 9 4 8 9]]]\n"
     ]
    }
   ],
   "source": [
    "arr_sort = np.sort(arr3,axis = 0)\n",
    "print(arr_sort)"
   ]
  },
  {
   "cell_type": "code",
   "execution_count": 408,
   "id": "39d0a0c2",
   "metadata": {},
   "outputs": [
    {
     "name": "stdout",
     "output_type": "stream",
     "text": [
      "[[[2 6 1 6 5]\n",
      "  [9 7 8 9 9]]\n",
      "\n",
      " [[2 4 4 4 1]\n",
      "  [3 9 9 8 4]]]\n"
     ]
    }
   ],
   "source": [
    "arr_sort = np.sort(arr, axis = 1)\n",
    "print(arr_sort)"
   ]
  },
  {
   "cell_type": "code",
   "execution_count": 412,
   "id": "5b3f5e48",
   "metadata": {},
   "outputs": [
    {
     "name": "stdout",
     "output_type": "stream",
     "text": [
      "[[[2 5 7 8 9]\n",
      "  [1 6 6 9 9]]\n",
      "\n",
      " [[2 4 4 4 9]\n",
      "  [1 3 4 8 9]]]\n"
     ]
    }
   ],
   "source": [
    "arr_sort = np.sort(arr, axis = 2)\n",
    "print(arr_sort)"
   ]
  },
  {
   "cell_type": "code",
   "execution_count": 413,
   "id": "15adc481",
   "metadata": {},
   "outputs": [
    {
     "name": "stdout",
     "output_type": "stream",
     "text": [
      "[[[2 6 1 6 5]\n",
      "  [9 7 8 9 9]]\n",
      "\n",
      " [[2 4 4 4 1]\n",
      "  [3 9 9 8 4]]]\n"
     ]
    }
   ],
   "source": [
    "arr_sort = np.sort(arr, axis = -2)  # similar to axis 1 (negative indexing)\n",
    "print(arr_sort)"
   ]
  },
  {
   "cell_type": "code",
   "execution_count": 417,
   "id": "7d38615b",
   "metadata": {},
   "outputs": [
    {
     "name": "stdout",
     "output_type": "stream",
     "text": [
      "[10 20 30 40 50 60 70 80 90]\n"
     ]
    }
   ],
   "source": [
    "# insert:\n",
    "arr = np.arange(10,100,10)\n",
    "print(arr)"
   ]
  },
  {
   "cell_type": "code",
   "execution_count": 418,
   "id": "99a709e0",
   "metadata": {},
   "outputs": [
    {
     "name": "stdout",
     "output_type": "stream",
     "text": [
      "[10 20 55 30 40 50 60 70 80 90]\n"
     ]
    }
   ],
   "source": [
    "arr_ins = np.insert(arr,2,55)\n",
    "print(arr_ins)"
   ]
  },
  {
   "cell_type": "code",
   "execution_count": 420,
   "id": "095b91ad",
   "metadata": {},
   "outputs": [
    {
     "name": "stdout",
     "output_type": "stream",
     "text": [
      "[ 10  20  55  30  40  50  60  70  80 555  90]\n"
     ]
    }
   ],
   "source": [
    "arr_ins2 = np.insert(arr_ins,9,555)\n",
    "print(arr_ins2)"
   ]
  },
  {
   "cell_type": "code",
   "execution_count": 421,
   "id": "9ab82965",
   "metadata": {},
   "outputs": [
    {
     "name": "stdout",
     "output_type": "stream",
     "text": [
      "[ 10  20  55  30  40  50  60  70  80 555  22  90]\n"
     ]
    }
   ],
   "source": [
    "arr_ins3 = np.insert(arr_ins2, -1, 22)\n",
    "print(arr_ins3) # shifts the value of -1 to the last"
   ]
  },
  {
   "cell_type": "code",
   "execution_count": 422,
   "id": "7e81ba41",
   "metadata": {},
   "outputs": [
    {
     "name": "stdout",
     "output_type": "stream",
     "text": [
      "[[[8 9 5 4]\n",
      "  [4 8 5 9]\n",
      "  [8 7 5 3]]\n",
      "\n",
      " [[8 8 8 1]\n",
      "  [5 2 9 4]\n",
      "  [2 9 5 4]]]\n"
     ]
    }
   ],
   "source": [
    "arr1 = np.random.randint(1,10,24).reshape(2,3,4)\n",
    "print(arr1)"
   ]
  },
  {
   "cell_type": "code",
   "execution_count": 423,
   "id": "562560d4",
   "metadata": {},
   "outputs": [
    {
     "name": "stdout",
     "output_type": "stream",
     "text": [
      "[[3 4 3 3]\n",
      " [4 1 4 1]\n",
      " [4 1 3 3]]\n"
     ]
    }
   ],
   "source": [
    "arr2 = np.random.randint(1,5,12).reshape(3,4)\n",
    "print(arr2)"
   ]
  },
  {
   "cell_type": "code",
   "execution_count": 424,
   "id": "fc826e37",
   "metadata": {},
   "outputs": [
    {
     "name": "stdout",
     "output_type": "stream",
     "text": [
      "[[[8 9 5 4]\n",
      "  [4 8 5 9]\n",
      "  [8 7 5 3]]\n",
      "\n",
      " [[3 4 3 3]\n",
      "  [4 1 4 1]\n",
      "  [4 1 3 3]]\n",
      "\n",
      " [[8 8 8 1]\n",
      "  [5 2 9 4]\n",
      "  [2 9 5 4]]]\n"
     ]
    }
   ],
   "source": [
    "arrins = np.insert(arr1,1,arr2, axis = 0) # insert in array \"arr1\" at index 1 the \"arr2\" on axis 0\n",
    "print(arrins)"
   ]
  },
  {
   "cell_type": "code",
   "execution_count": 426,
   "id": "e652e7d9",
   "metadata": {},
   "outputs": [
    {
     "name": "stdout",
     "output_type": "stream",
     "text": [
      "[[[8 9 5 4]\n",
      "  [4 8 5 9]\n",
      "  [8 7 5 3]]\n",
      "\n",
      " [[8 8 8 1]\n",
      "  [5 2 9 4]\n",
      "  [2 9 5 4]]]\n"
     ]
    }
   ],
   "source": [
    "print(arr1)"
   ]
  },
  {
   "cell_type": "code",
   "execution_count": 425,
   "id": "5b9023b3",
   "metadata": {},
   "outputs": [
    {
     "name": "stdout",
     "output_type": "stream",
     "text": [
      "[[0 1 2 3]\n",
      " [4 5 6 7]]\n"
     ]
    }
   ],
   "source": [
    "arr3 = np.arange(8).reshape(2,4)\n",
    "print(arr3)"
   ]
  },
  {
   "cell_type": "code",
   "execution_count": 428,
   "id": "03976aac",
   "metadata": {},
   "outputs": [
    {
     "name": "stdout",
     "output_type": "stream",
     "text": [
      "[[[8 9 5 4]\n",
      "  [0 1 2 3]\n",
      "  [4 8 5 9]\n",
      "  [8 7 5 3]]\n",
      "\n",
      " [[8 8 8 1]\n",
      "  [4 5 6 7]\n",
      "  [5 2 9 4]\n",
      "  [2 9 5 4]]]\n"
     ]
    }
   ],
   "source": [
    "arrins2 = np.insert(arr1, 1,arr3, axis = 1)\n",
    "print(arrins2)"
   ]
  },
  {
   "cell_type": "code",
   "execution_count": 431,
   "id": "caaff673",
   "metadata": {},
   "outputs": [
    {
     "name": "stdout",
     "output_type": "stream",
     "text": [
      "[[0 1 2]\n",
      " [3 4 5]]\n"
     ]
    }
   ],
   "source": [
    "arr4 = np.arange(6).reshape(2,3)\n",
    "print(arr4)"
   ]
  },
  {
   "cell_type": "code",
   "execution_count": 433,
   "id": "bb3200f4",
   "metadata": {},
   "outputs": [
    {
     "name": "stdout",
     "output_type": "stream",
     "text": [
      "[[[8 9 0 5 4]\n",
      "  [4 8 1 5 9]\n",
      "  [8 7 2 5 3]]\n",
      "\n",
      " [[8 8 3 8 1]\n",
      "  [5 2 4 9 4]\n",
      "  [2 9 5 5 4]]]\n"
     ]
    }
   ],
   "source": [
    "arrins3 = np.insert(arr1,2,arr4, axis = 2)\n",
    "print(arrins3)"
   ]
  },
  {
   "cell_type": "code",
   "execution_count": 435,
   "id": "de5567a5",
   "metadata": {},
   "outputs": [],
   "source": [
    "# Transposing-  Interchanging the axis\n",
    "# Transpose gives you a view object, so the original object also changes when any changes are made"
   ]
  },
  {
   "cell_type": "code",
   "execution_count": 438,
   "id": "589f58d8",
   "metadata": {},
   "outputs": [
    {
     "name": "stdout",
     "output_type": "stream",
     "text": [
      "[[1 2 3 4]\n",
      " [5 6 7 8]]\n"
     ]
    }
   ],
   "source": [
    "arr1 = np.arange(1,9).reshape(2,4)\n",
    "print(arr1)"
   ]
  },
  {
   "cell_type": "code",
   "execution_count": 440,
   "id": "6d87da3f",
   "metadata": {},
   "outputs": [
    {
     "name": "stdout",
     "output_type": "stream",
     "text": [
      "[[1 5]\n",
      " [2 6]\n",
      " [3 7]\n",
      " [4 8]]\n"
     ]
    }
   ],
   "source": [
    "arr2 = arr1.transpose()\n",
    "print(arr2)"
   ]
  },
  {
   "cell_type": "code",
   "execution_count": 442,
   "id": "e504d5a1",
   "metadata": {},
   "outputs": [
    {
     "name": "stdout",
     "output_type": "stream",
     "text": [
      "[[ 1  5]\n",
      " [ 2  6]\n",
      " [ 3  7]\n",
      " [ 4 88]]\n",
      "[[ 1  2  3  4]\n",
      " [ 5  6  7 88]]\n"
     ]
    }
   ],
   "source": [
    "arr2[-1][-1] = 88\n",
    "print(arr2)\n",
    "print(arr1)"
   ]
  },
  {
   "cell_type": "code",
   "execution_count": 443,
   "id": "77305e91",
   "metadata": {},
   "outputs": [
    {
     "name": "stdout",
     "output_type": "stream",
     "text": [
      "[[[ 1  2  3  4]\n",
      "  [ 5  6  7  8]\n",
      "  [ 9 10 11 12]]\n",
      "\n",
      " [[13 14 15 16]\n",
      "  [17 18 19 20]\n",
      "  [21 22 23 24]]]\n"
     ]
    }
   ],
   "source": [
    "arr = np.arange(1,25).reshape(2,3,4)\n",
    "print(arr)"
   ]
  },
  {
   "cell_type": "code",
   "execution_count": 444,
   "id": "f8c1f766",
   "metadata": {},
   "outputs": [
    {
     "name": "stdout",
     "output_type": "stream",
     "text": [
      "[[[ 1  2  3  4]\n",
      "  [13 14 15 16]]\n",
      "\n",
      " [[ 5  6  7  8]\n",
      "  [17 18 19 20]]\n",
      "\n",
      " [[ 9 10 11 12]\n",
      "  [21 22 23 24]]]\n",
      "(3, 2, 4)\n"
     ]
    }
   ],
   "source": [
    "arr2 = np.transpose(arr, (1,0,2))\n",
    "print(arr2)\n",
    "print(arr2.shape)"
   ]
  },
  {
   "cell_type": "code",
   "execution_count": 445,
   "id": "06d9e16a",
   "metadata": {},
   "outputs": [
    {
     "name": "stdout",
     "output_type": "stream",
     "text": [
      "[[[ 1 13]\n",
      "  [ 2 14]\n",
      "  [ 3 15]\n",
      "  [ 4 16]]\n",
      "\n",
      " [[ 5 17]\n",
      "  [ 6 18]\n",
      "  [ 7 19]\n",
      "  [ 8 20]]\n",
      "\n",
      " [[ 9 21]\n",
      "  [10 22]\n",
      "  [11 23]\n",
      "  [12 24]]]\n"
     ]
    }
   ],
   "source": [
    "arr3 = np.transpose(arr,(1,2,0))\n",
    "print(arr3)"
   ]
  },
  {
   "cell_type": "code",
   "execution_count": 448,
   "id": "6dc44796",
   "metadata": {},
   "outputs": [
    {
     "name": "stdout",
     "output_type": "stream",
     "text": [
      "[[[ 1  2  3  4]\n",
      "  [ 5  6  7  8]\n",
      "  [ 9 10 11 12]]\n",
      "\n",
      " [[13 14 15 16]\n",
      "  [17 18 19 20]\n",
      "  [21 22 23 24]]]\n"
     ]
    }
   ],
   "source": [
    "print(arr)"
   ]
  },
  {
   "cell_type": "code",
   "execution_count": 446,
   "id": "8b474a4b",
   "metadata": {},
   "outputs": [
    {
     "name": "stdout",
     "output_type": "stream",
     "text": [
      "[[[ 1 13]\n",
      "  [ 5 17]\n",
      "  [ 9 21]]\n",
      "\n",
      " [[ 2 14]\n",
      "  [ 6 18]\n",
      "  [10 22]]\n",
      "\n",
      " [[ 3 15]\n",
      "  [ 7 19]\n",
      "  [11 23]]\n",
      "\n",
      " [[ 4 16]\n",
      "  [ 8 20]\n",
      "  [12 24]]]\n"
     ]
    }
   ],
   "source": [
    "arr4 = np.transpose(arr,(2,1,0))\n",
    "print(arr4)"
   ]
  },
  {
   "cell_type": "markdown",
   "id": "0a13cacd",
   "metadata": {},
   "source": [
    "# Datetime"
   ]
  },
  {
   "cell_type": "markdown",
   "id": "e38424a8",
   "metadata": {},
   "source": [
    "--> Takes input as a string.\n",
    "-> format - \"YYYY-MM-DD hh:mm:ss\"\n"
   ]
  },
  {
   "cell_type": "code",
   "execution_count": 457,
   "id": "83d1b52a",
   "metadata": {},
   "outputs": [
    {
     "name": "stdout",
     "output_type": "stream",
     "text": [
      "2023-04-08\n",
      "<class 'numpy.datetime64'>\n"
     ]
    }
   ],
   "source": [
    "import numpy as np\n",
    "np_date1 = np.datetime64(\"2023-04-08\")\n",
    "\n",
    "print(np_date1)\n",
    "print(type(np_date))\n",
    "# takes string as input and output is datetime object"
   ]
  },
  {
   "cell_type": "code",
   "execution_count": 450,
   "id": "8cde6bc6",
   "metadata": {},
   "outputs": [
    {
     "name": "stdout",
     "output_type": "stream",
     "text": [
      "2023-05-26T01:14:30.090\n",
      "<class 'numpy.datetime64'>\n"
     ]
    }
   ],
   "source": [
    "np_date = np.datetime64('2023-05-26 01:14:30.09')\n",
    "print(np_date)\n",
    "print(type(np_date))\n",
    "# T shows that it is time "
   ]
  },
  {
   "cell_type": "code",
   "execution_count": 451,
   "id": "9c86049e",
   "metadata": {},
   "outputs": [
    {
     "name": "stdout",
     "output_type": "stream",
     "text": [
      "datetime64[ms]\n"
     ]
    }
   ],
   "source": [
    "print(np_date.dtype)"
   ]
  },
  {
   "cell_type": "code",
   "execution_count": 452,
   "id": "9136461e",
   "metadata": {},
   "outputs": [
    {
     "name": "stdout",
     "output_type": "stream",
     "text": [
      "2023-05-26T01:14:30\n",
      "datetime64[s]\n"
     ]
    }
   ],
   "source": [
    "np_date1 = np.datetime64('2023-05-26 01:14:30')\n",
    "print(np_date1)\n",
    "print(np_date1.dtype) # datetime object is till seconds"
   ]
  },
  {
   "cell_type": "code",
   "execution_count": 453,
   "id": "f467dd50",
   "metadata": {},
   "outputs": [
    {
     "name": "stdout",
     "output_type": "stream",
     "text": [
      "2023-05\n",
      "datetime64[M]\n"
     ]
    }
   ],
   "source": [
    "np_date1 = np.datetime64('2023-05')\n",
    "print(np_date1)\n",
    "print(np_date1.dtype) # shows that the datetime object is till month(\"M\")"
   ]
  },
  {
   "cell_type": "code",
   "execution_count": 454,
   "id": "5cd5f6a4",
   "metadata": {},
   "outputs": [],
   "source": [
    "# we can truncate the datetime object"
   ]
  },
  {
   "cell_type": "code",
   "execution_count": 461,
   "id": "6119a9ff",
   "metadata": {},
   "outputs": [
    {
     "name": "stdout",
     "output_type": "stream",
     "text": [
      "2023-04-15\n"
     ]
    }
   ],
   "source": [
    "# can perform arithmetic operations on datetime object\n",
    "print(np_date1+7)"
   ]
  },
  {
   "cell_type": "code",
   "execution_count": 462,
   "id": "11c92fe9",
   "metadata": {},
   "outputs": [
    {
     "name": "stdout",
     "output_type": "stream",
     "text": [
      "2022-09-12T11\n",
      "datetime64[h]\n"
     ]
    }
   ],
   "source": [
    "np_datet = np.datetime64(\"2022-09-12 11:20\", 'h') # want to only take it till hours and exclude the minutes \n",
    "print(np_datet)\n",
    "print(np_datet.dtype)"
   ]
  },
  {
   "cell_type": "code",
   "execution_count": 463,
   "id": "57739bdc",
   "metadata": {},
   "outputs": [
    {
     "name": "stdout",
     "output_type": "stream",
     "text": [
      "2022-09\n",
      "datetime64[M]\n"
     ]
    }
   ],
   "source": [
    "np_datet = np.datetime64(\"2022-09-12 11:20\", 'M') # till months\n",
    "print(np_datet)\n",
    "print(np_datet.dtype)"
   ]
  },
  {
   "cell_type": "code",
   "execution_count": 465,
   "id": "9a797bd3",
   "metadata": {},
   "outputs": [
    {
     "name": "stdout",
     "output_type": "stream",
     "text": [
      "2023-04-01T00:00\n"
     ]
    }
   ],
   "source": [
    "np_date2 = np.datetime64('2023-04', 'm') # if we do not specify the exact time and still want to get the output \n",
    "# with time it takes first day of month and midnight as default\n",
    "print(np_date2)"
   ]
  },
  {
   "cell_type": "code",
   "execution_count": 468,
   "id": "d33b7a32",
   "metadata": {},
   "outputs": [
    {
     "name": "stdout",
     "output_type": "stream",
     "text": [
      "2023-01\n"
     ]
    }
   ],
   "source": [
    "np_date = np.datetime64('2023', 'M')\n",
    "print(np_date)"
   ]
  },
  {
   "cell_type": "code",
   "execution_count": 469,
   "id": "381f0003",
   "metadata": {},
   "outputs": [
    {
     "name": "stdout",
     "output_type": "stream",
     "text": [
      "2023-01-01T00:00:00.000\n"
     ]
    }
   ],
   "source": [
    "np_date = np.datetime64('2023', 'ms')\n",
    "print(np_date)"
   ]
  },
  {
   "cell_type": "markdown",
   "id": "5396c86e",
   "metadata": {},
   "source": [
    "common abbreviations in datetime\n",
    "\n",
    "Y - years\n",
    "M - months\n",
    "D - days\n",
    "W - weeks\n",
    "h - hours\n",
    "m - minutes\n",
    "s - seconds\n",
    "ms - milliseconds"
   ]
  },
  {
   "cell_type": "code",
   "execution_count": 488,
   "id": "87f523e3",
   "metadata": {},
   "outputs": [
    {
     "name": "stdout",
     "output_type": "stream",
     "text": [
      "2023-05-25\n"
     ]
    }
   ],
   "source": [
    "np_date = np.datetime64('2023-05-26','W') # don't know what exactly this is doing - seems very weird\n",
    "print(np_date)"
   ]
  },
  {
   "cell_type": "code",
   "execution_count": 489,
   "id": "e9596823",
   "metadata": {},
   "outputs": [
    {
     "name": "stdout",
     "output_type": "stream",
     "text": [
      "2023-05-25\n"
     ]
    }
   ],
   "source": [
    "np_date = np.datetime64('2023-05-25', 'D')\n",
    "print(np_date)"
   ]
  },
  {
   "cell_type": "code",
   "execution_count": 492,
   "id": "55f77b4e",
   "metadata": {},
   "outputs": [
    {
     "name": "stdout",
     "output_type": "stream",
     "text": [
      "2023-05-18\n"
     ]
    }
   ],
   "source": [
    "print(np_date - 7)"
   ]
  },
  {
   "cell_type": "code",
   "execution_count": 493,
   "id": "adaf9bf3",
   "metadata": {},
   "outputs": [
    {
     "name": "stdout",
     "output_type": "stream",
     "text": [
      "2023-05-26\n"
     ]
    }
   ],
   "source": [
    "today = np.datetime64('today')\n",
    "print(today)"
   ]
  },
  {
   "cell_type": "code",
   "execution_count": 497,
   "id": "7df42569",
   "metadata": {},
   "outputs": [
    {
     "name": "stdout",
     "output_type": "stream",
     "text": [
      "2023-05-26T00:00\n"
     ]
    }
   ],
   "source": [
    "np_tod = np.datetime64('today', 'm')\n",
    "print(np_tod)"
   ]
  },
  {
   "cell_type": "code",
   "execution_count": 502,
   "id": "3ade239d",
   "metadata": {},
   "outputs": [
    {
     "name": "stdout",
     "output_type": "stream",
     "text": [
      "2023-05-31T00:00\n"
     ]
    }
   ],
   "source": [
    "npnew = np_tod + np.timedelta64(5,'D')\n",
    "print(npnew)"
   ]
  },
  {
   "cell_type": "code",
   "execution_count": 504,
   "id": "eafa5ce7",
   "metadata": {},
   "outputs": [
    {
     "name": "stdout",
     "output_type": "stream",
     "text": [
      "2023-06-05T00:00\n"
     ]
    }
   ],
   "source": [
    "npnew = np_tod + np.timedelta64(10,'D')# directly changes the months\n",
    "print(npnew)"
   ]
  },
  {
   "cell_type": "code",
   "execution_count": 506,
   "id": "0211daab",
   "metadata": {},
   "outputs": [
    {
     "name": "stdout",
     "output_type": "stream",
     "text": [
      "5 days\n",
      "<class 'numpy.timedelta64'>\n",
      "timedelta64[D]\n"
     ]
    }
   ],
   "source": [
    "np_td = np.timedelta64(5,\"D\") #adding days\n",
    "print(np_td)\n",
    "print(type(np_td))\n",
    "print(np_td.dtype)"
   ]
  },
  {
   "cell_type": "code",
   "execution_count": 507,
   "id": "3f1c1bc3",
   "metadata": {},
   "outputs": [
    {
     "name": "stdout",
     "output_type": "stream",
     "text": [
      "5 minutes\n",
      "<class 'numpy.timedelta64'>\n",
      "timedelta64[m]\n"
     ]
    }
   ],
   "source": [
    "np_td = np.timedelta64(5,\"m\") # adding minutes - we can still do if no time or hours or given\n",
    "print(np_td)\n",
    "print(type(np_td))\n",
    "print(np_td.dtype)"
   ]
  },
  {
   "cell_type": "code",
   "execution_count": null,
   "id": "349ea299",
   "metadata": {},
   "outputs": [],
   "source": [
    "# Timedelta64 - does not work between datetime64 object of unit between day(or lower) and year/month"
   ]
  },
  {
   "cell_type": "code",
   "execution_count": 508,
   "id": "73b01395",
   "metadata": {},
   "outputs": [
    {
     "ename": "UFuncTypeError",
     "evalue": "Cannot cast ufunc 'add' input 1 from dtype('<m8[Y]') to dtype('<m8[m]') with casting rule 'same_kind'",
     "output_type": "error",
     "traceback": [
      "\u001b[0;31m---------------------------------------------------------------------------\u001b[0m",
      "\u001b[0;31mUFuncTypeError\u001b[0m                            Traceback (most recent call last)",
      "Cell \u001b[0;32mIn[508], line 1\u001b[0m\n\u001b[0;32m----> 1\u001b[0m np_timed \u001b[38;5;241m=\u001b[39m \u001b[43mnp_tod\u001b[49m\u001b[43m \u001b[49m\u001b[38;5;241;43m+\u001b[39;49m\u001b[43m \u001b[49m\u001b[43mnp\u001b[49m\u001b[38;5;241;43m.\u001b[39;49m\u001b[43mtimedelta64\u001b[49m\u001b[43m(\u001b[49m\u001b[38;5;241;43m1\u001b[39;49m\u001b[43m,\u001b[49m\u001b[38;5;124;43m\"\u001b[39;49m\u001b[38;5;124;43mY\u001b[39;49m\u001b[38;5;124;43m\"\u001b[39;49m\u001b[43m)\u001b[49m\n\u001b[1;32m      2\u001b[0m \u001b[38;5;28mprint\u001b[39m(np_timed)\n",
      "\u001b[0;31mUFuncTypeError\u001b[0m: Cannot cast ufunc 'add' input 1 from dtype('<m8[Y]') to dtype('<m8[m]') with casting rule 'same_kind'"
     ]
    }
   ],
   "source": [
    "np_timed = np_tod + np.timedelta64(1,\"Y\")\n",
    "print(np_timed)"
   ]
  },
  {
   "cell_type": "code",
   "execution_count": null,
   "id": "283fe644",
   "metadata": {},
   "outputs": [],
   "source": [
    "# is_busday function - tells whether business day or not\n",
    "# takes datetime object"
   ]
  },
  {
   "cell_type": "code",
   "execution_count": 509,
   "id": "d1a49583",
   "metadata": {},
   "outputs": [
    {
     "name": "stdout",
     "output_type": "stream",
     "text": [
      "True\n"
     ]
    }
   ],
   "source": [
    "np_isbusday = np.is_busday(np.datetime64('2023-05-26'))\n",
    "print(np_isbusday)"
   ]
  },
  {
   "cell_type": "code",
   "execution_count": 510,
   "id": "0bc1365f",
   "metadata": {},
   "outputs": [
    {
     "name": "stdout",
     "output_type": "stream",
     "text": [
      "False\n"
     ]
    }
   ],
   "source": [
    "np_isbusday = np.is_busday(np.datetime64('2023-05-27'))\n",
    "print(np_isbusday)"
   ]
  },
  {
   "cell_type": "markdown",
   "id": "9a2a7c56",
   "metadata": {},
   "source": [
    "weekmask = [1,1,1,1,1,0,0]\n",
    "weekmask = \"1111100\"\n",
    "weekmask = 'Mon Tue Wed Thu Fri Sat'"
   ]
  },
  {
   "cell_type": "code",
   "execution_count": 511,
   "id": "b7159eb1",
   "metadata": {},
   "outputs": [
    {
     "name": "stdout",
     "output_type": "stream",
     "text": [
      "True\n"
     ]
    }
   ],
   "source": [
    "np_isbusday1 = np.is_busday(np.datetime64('2023-05-27'), weekmask = [1,1,1,1,1,1,0]) # changing the busday\n",
    "print(np_isbusday1)"
   ]
  },
  {
   "cell_type": "code",
   "execution_count": 513,
   "id": "cec733fa",
   "metadata": {},
   "outputs": [
    {
     "name": "stdout",
     "output_type": "stream",
     "text": [
      "['2023-04-01' '2023-04-02' '2023-04-03' '2023-04-04' '2023-04-05'\n",
      " '2023-04-06' '2023-04-07' '2023-04-08' '2023-04-09' '2023-04-10'\n",
      " '2023-04-11' '2023-04-12' '2023-04-13' '2023-04-14' '2023-04-15'\n",
      " '2023-04-16' '2023-04-17' '2023-04-18' '2023-04-19' '2023-04-20'\n",
      " '2023-04-21' '2023-04-22' '2023-04-23' '2023-04-24' '2023-04-25'\n",
      " '2023-04-26' '2023-04-27' '2023-04-28' '2023-04-29' '2023-04-30']\n",
      "<class 'numpy.datetime64'>\n",
      "datetime64[D]\n"
     ]
    }
   ],
   "source": [
    "aprdates = np.arange('2023-04-01', '2023-05-01', dtype = 'datetime64')\n",
    "print(aprdates)\n",
    "print(type(aprdates[0]))\n",
    "print(aprdates[0].dtype)"
   ]
  },
  {
   "cell_type": "code",
   "execution_count": 514,
   "id": "d970feae",
   "metadata": {},
   "outputs": [
    {
     "name": "stdout",
     "output_type": "stream",
     "text": [
      "[ True  True False False False False False  True  True False False False\n",
      " False False  True  True False False False False False  True  True False\n",
      " False False False False  True  True]\n"
     ]
    }
   ],
   "source": [
    "satsunNO = np.is_busday(aprdates, weekmask = [0,0,0,0,0,1,1])\n",
    "print(satsunNO)"
   ]
  },
  {
   "cell_type": "code",
   "execution_count": 515,
   "id": "094537cd",
   "metadata": {},
   "outputs": [
    {
     "name": "stdout",
     "output_type": "stream",
     "text": [
      "['2023-04-01' '2023-04-02' '2023-04-08' '2023-04-09' '2023-04-15'\n",
      " '2023-04-16' '2023-04-22' '2023-04-23' '2023-04-29' '2023-04-30']\n"
     ]
    }
   ],
   "source": [
    "print(aprdates[satsunNO]) # getting only weekends/ business or non-business days"
   ]
  },
  {
   "cell_type": "code",
   "execution_count": 517,
   "id": "c8f6dabd",
   "metadata": {},
   "outputs": [
    {
     "name": "stdout",
     "output_type": "stream",
     "text": [
      "23\n"
     ]
    }
   ],
   "source": [
    "busday_count = np.busday_count('2023-05-01', '2023-06-01')\n",
    "print(busday_count)"
   ]
  },
  {
   "cell_type": "code",
   "execution_count": null,
   "id": "bb86d92f",
   "metadata": {},
   "outputs": [],
   "source": [
    "# specified dates can be passed as holiday as array object"
   ]
  },
  {
   "cell_type": "code",
   "execution_count": 518,
   "id": "ef14c4fc",
   "metadata": {},
   "outputs": [
    {
     "name": "stdout",
     "output_type": "stream",
     "text": [
      "2023-05-29\n"
     ]
    }
   ],
   "source": [
    "#busdayoffset- next business day\n",
    "\n",
    "busday_offset = np.busday_offset('2023-05-26', 1)\n",
    "print(busday_offset)"
   ]
  },
  {
   "cell_type": "code",
   "execution_count": 519,
   "id": "06e6cdf1",
   "metadata": {},
   "outputs": [
    {
     "name": "stdout",
     "output_type": "stream",
     "text": [
      "2023-05-29\n"
     ]
    }
   ],
   "source": [
    "busday_offset = np.busday_offset('2023-05-26', 1, roll = 'forward')\n",
    "print(busday_offset)"
   ]
  },
  {
   "cell_type": "code",
   "execution_count": 526,
   "id": "d9333068",
   "metadata": {},
   "outputs": [
    {
     "name": "stdout",
     "output_type": "stream",
     "text": [
      "2023-05-23\n",
      "2023-05-23\n"
     ]
    }
   ],
   "source": [
    "busday_offset = np.busday_offset('2023-05-26', -3) # 3 days before\n",
    "print(busday_offset)\n",
    "busday_offset = np.busday_offset('2023-05-26', -3, roll = 'backward') # 3 days before\n",
    "print(busday_offset)"
   ]
  },
  {
   "cell_type": "code",
   "execution_count": null,
   "id": "b54adbdf",
   "metadata": {},
   "outputs": [],
   "source": []
  }
 ],
 "metadata": {
  "kernelspec": {
   "display_name": "myenv",
   "language": "python",
   "name": "myenv"
  },
  "language_info": {
   "codemirror_mode": {
    "name": "ipython",
    "version": 3
   },
   "file_extension": ".py",
   "mimetype": "text/x-python",
   "name": "python",
   "nbconvert_exporter": "python",
   "pygments_lexer": "ipython3",
   "version": "3.10.8"
  }
 },
 "nbformat": 4,
 "nbformat_minor": 5
}
